{
 "cells": [
  {
   "cell_type": "code",
   "execution_count": 70,
   "id": "e801d895",
   "metadata": {
    "ExecuteTime": {
     "end_time": "2021-09-27T03:10:50.065296Z",
     "start_time": "2021-09-27T03:10:50.062483Z"
    }
   },
   "outputs": [],
   "source": [
    "import torch\n",
    "import torchvision.transforms as transforms\n",
    "import torchvision\n",
    "import os\n",
    "import glob\n",
    "import imageio\n",
    "from collections import defaultdict\n",
    "import matplotlib.pyplot as plt\n",
    "from tqdm.notebook import tqdm, trange"
   ]
  },
  {
   "cell_type": "code",
   "execution_count": 2,
   "id": "71ed94d8",
   "metadata": {
    "ExecuteTime": {
     "end_time": "2021-09-27T01:53:21.794574Z",
     "start_time": "2021-09-27T01:53:21.773948Z"
    }
   },
   "outputs": [
    {
     "data": {
      "text/plain": [
       "8733"
      ]
     },
     "execution_count": 2,
     "metadata": {},
     "output_type": "execute_result"
    }
   ],
   "source": [
    "transformers = transforms.Compose([transforms.ToTensor(),\n",
    "                                  transforms.Resize((112,112))])\n",
    "dataset = torchvision.datasets.ImageFolder(\"/home/fred/datasets/caltech101/101_ObjectCategories/\", \n",
    "                                                              transform=transformers)\n",
    "len(dataset)"
   ]
  },
  {
   "cell_type": "code",
   "execution_count": 3,
   "id": "67c24b59",
   "metadata": {
    "ExecuteTime": {
     "end_time": "2021-09-27T01:53:21.796344Z",
     "start_time": "2021-09-27T01:53:21.795255Z"
    }
   },
   "outputs": [],
   "source": [
    "# folders = glob.glob(\"/home/fred/datasets/caltech101/101_ObjectCategories/*\")\n",
    "# for folder in folders:\n",
    "#     img_paths = glob.glob(folder+'/*.jpg')\n",
    "#     for im_path in img_paths:\n",
    "#         img = imageio.imread(im_path)\n",
    "#         if len(img.shape) != 3:\n",
    "#             os.remove(im_path)"
   ]
  },
  {
   "cell_type": "code",
   "execution_count": 4,
   "id": "f4053496",
   "metadata": {
    "ExecuteTime": {
     "end_time": "2021-09-27T01:53:21.798370Z",
     "start_time": "2021-09-27T01:53:21.796962Z"
    }
   },
   "outputs": [],
   "source": [
    "loader = torch.utils.data.DataLoader(dataset, batch_size=128)"
   ]
  },
  {
   "cell_type": "code",
   "execution_count": 5,
   "id": "29068425",
   "metadata": {
    "ExecuteTime": {
     "end_time": "2021-09-27T01:53:22.033252Z",
     "start_time": "2021-09-27T01:53:21.798915Z"
    }
   },
   "outputs": [
    {
     "data": {
      "text/plain": [
       "torch.Size([128, 3, 112, 112])"
      ]
     },
     "execution_count": 5,
     "metadata": {},
     "output_type": "execute_result"
    }
   ],
   "source": [
    "imgs, labels = next(iter(loader))\n",
    "imgs.shape"
   ]
  },
  {
   "cell_type": "code",
   "execution_count": 6,
   "id": "7fbcdbce",
   "metadata": {
    "ExecuteTime": {
     "end_time": "2021-09-27T01:53:22.345005Z",
     "start_time": "2021-09-27T01:53:22.033907Z"
    }
   },
   "outputs": [],
   "source": [
    "model = torchvision.models.resnet50(pretrained=True)\n",
    "model = torch.nn.Sequential(*list(model.children())[:-1])"
   ]
  },
  {
   "cell_type": "code",
   "execution_count": 7,
   "id": "84e91d8d",
   "metadata": {
    "ExecuteTime": {
     "end_time": "2021-09-27T01:53:23.460892Z",
     "start_time": "2021-09-27T01:53:22.345816Z"
    }
   },
   "outputs": [
    {
     "data": {
      "text/plain": [
       "torch.Size([128, 2048, 1, 1])"
      ]
     },
     "execution_count": 7,
     "metadata": {},
     "output_type": "execute_result"
    }
   ],
   "source": [
    "out = model(imgs)\n",
    "out.shape"
   ]
  },
  {
   "cell_type": "code",
   "execution_count": 8,
   "id": "a074ad18",
   "metadata": {
    "ExecuteTime": {
     "end_time": "2021-09-27T01:53:36.041760Z",
     "start_time": "2021-09-27T01:53:23.461879Z"
    }
   },
   "outputs": [
    {
     "data": {
      "application/vnd.jupyter.widget-view+json": {
       "model_id": "18a581313ece4cb592dcc19c6b3dd41b",
       "version_major": 2,
       "version_minor": 0
      },
      "text/plain": [
       "  0%|          | 0/69 [00:00<?, ?it/s]"
      ]
     },
     "metadata": {},
     "output_type": "display_data"
    }
   ],
   "source": [
    "features = []\n",
    "model = model.cuda(0)\n",
    "for imgs, labels in tqdm(loader):\n",
    "    imgs = imgs.cuda(0)\n",
    "    feat = model(imgs)\n",
    "    features.append(feat.detach().cpu())\n",
    "    del imgs\n",
    "\n",
    "features = torch.cat(features).squeeze()"
   ]
  },
  {
   "cell_type": "code",
   "execution_count": 86,
   "id": "6f65e8fd",
   "metadata": {
    "ExecuteTime": {
     "end_time": "2021-09-27T03:26:25.740652Z",
     "start_time": "2021-09-27T03:26:25.732193Z"
    }
   },
   "outputs": [],
   "source": [
    "class LSH:\n",
    "    \n",
    "    def __init__(self, hash_dim):\n",
    "        self.hash_dim = hash_dim\n",
    "        self.batch = 128\n",
    "        \n",
    "        self.device = torch.device(\"cuda:0\") if torch.cuda.is_available() else torch.device('cpu')\n",
    "    \n",
    "    def _toTuple(self, tensor):\n",
    "        return tuple(tensor.tolist())\n",
    "    \n",
    "    @torch.no_grad()\n",
    "    def _getHashes(self, features, hyperplanes):\n",
    "        \n",
    "        B = features.shape[0]\n",
    "        hash_ls = []\n",
    "        for i in trange(0, B, self.batch):\n",
    "            feature_chunk  = features[i:i+self.batch, :].to(self.device)\n",
    "            hashes = feature_chunk @ hyperplanes\n",
    "            # (batch, hash dim)\n",
    "            hashes[hashes < 0] = 0\n",
    "            hashes[hashes > 0] = 1\n",
    "            hash_ls.append(hashes.cpu())\n",
    "        \n",
    "        hash_table = torch.cat(hash_ls).to(torch.int8)\n",
    "        assert hash_table.shape == (B, self.hash_dim),\\\n",
    "                            f\"hash table has wrong shape {hash_table.shape}\"\n",
    "        return hash_table\n",
    "    \n",
    "    def build(self, features):\n",
    "        \n",
    "        feat_dim = features.shape[1]\n",
    "    \n",
    "        self.hyperplanes = torch.randn((feat_dim, self.hash_dim),device=self.device)\n",
    "        \n",
    "        hash_table = self._getHashes(features, self.hyperplanes)\n",
    "        \n",
    "        hash_dict = defaultdict(list)\n",
    "        B = hash_table.shape[0]\n",
    "        for i in range(B):\n",
    "            tupleHash = self._toTuple(hash_table[i,:])\n",
    "            hash_dict[tupleHash].append(features[i,:])\n",
    "        \n",
    "        self.hash_dict = hash_dict\n",
    "        return hash_dict\n",
    "    \n",
    "    def query(self, q_feats):\n",
    "        \n",
    "        assert q_feats.shape[1] == self.hyperplanes.shape[0],\\\n",
    "        f\"query features and hyperplane shape miss match {q_feats.shape[1], self.hyperplanes.shape[0]}\"\n",
    "        \n",
    "        q_hashes= self._getHashes(q_feats, self.hyperplanes)\n",
    "        \n",
    "        out_feats = []\n",
    "        for q_hash in q_hashes:\n",
    "            tupleHash = self._toTuple(q_hash)\n",
    "            out_feats.append(self.hash_dict[tupleHash])\n",
    "        \n",
    "        return out_feats\n",
    "        \n",
    "            \n",
    "        "
   ]
  },
  {
   "cell_type": "code",
   "execution_count": 87,
   "id": "0d656e62",
   "metadata": {
    "ExecuteTime": {
     "end_time": "2021-09-27T03:26:26.855177Z",
     "start_time": "2021-09-27T03:26:26.742406Z"
    }
   },
   "outputs": [
    {
     "data": {
      "application/vnd.jupyter.widget-view+json": {
       "model_id": "fce963206e414481840c9412e26bdc33",
       "version_major": 2,
       "version_minor": 0
      },
      "text/plain": [
       "  0%|          | 0/69 [00:00<?, ?it/s]"
      ]
     },
     "metadata": {},
     "output_type": "display_data"
    }
   ],
   "source": [
    "lsh = LSH(hash_dim=8)\n",
    "\n",
    "hash_dict = lsh.build(features)"
   ]
  },
  {
   "cell_type": "code",
   "execution_count": 85,
   "id": "163df4dd",
   "metadata": {
    "ExecuteTime": {
     "end_time": "2021-09-27T03:26:06.802761Z",
     "start_time": "2021-09-27T03:26:06.799554Z"
    }
   },
   "outputs": [
    {
     "data": {
      "text/plain": [
       "202"
      ]
     },
     "execution_count": 85,
     "metadata": {},
     "output_type": "execute_result"
    }
   ],
   "source": [
    "len(hash_dict)"
   ]
  },
  {
   "cell_type": "code",
   "execution_count": 62,
   "id": "eb5dd43c",
   "metadata": {
    "ExecuteTime": {
     "end_time": "2021-09-27T02:47:53.104174Z",
     "start_time": "2021-09-27T02:47:53.101025Z"
    }
   },
   "outputs": [
    {
     "data": {
      "text/plain": [
       "torch.Size([8733, 2048])"
      ]
     },
     "execution_count": 62,
     "metadata": {},
     "output_type": "execute_result"
    }
   ],
   "source": [
    "features.shape"
   ]
  },
  {
   "cell_type": "code",
   "execution_count": null,
   "id": "8faa175b",
   "metadata": {},
   "outputs": [],
   "source": []
  }
 ],
 "metadata": {
  "kernelspec": {
   "display_name": "Python 3",
   "language": "python",
   "name": "python3"
  },
  "language_info": {
   "codemirror_mode": {
    "name": "ipython",
    "version": 3
   },
   "file_extension": ".py",
   "mimetype": "text/x-python",
   "name": "python",
   "nbconvert_exporter": "python",
   "pygments_lexer": "ipython3",
   "version": "3.8.8"
  },
  "toc": {
   "base_numbering": 1,
   "nav_menu": {},
   "number_sections": true,
   "sideBar": true,
   "skip_h1_title": false,
   "title_cell": "Table of Contents",
   "title_sidebar": "Contents",
   "toc_cell": false,
   "toc_position": {},
   "toc_section_display": true,
   "toc_window_display": false
  }
 },
 "nbformat": 4,
 "nbformat_minor": 5
}
