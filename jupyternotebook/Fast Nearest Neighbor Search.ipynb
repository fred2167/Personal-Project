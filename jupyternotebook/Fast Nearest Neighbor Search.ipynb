{
 "cells": [
  {
   "cell_type": "code",
   "execution_count": null,
   "id": "e801d895",
   "metadata": {
    "ExecuteTime": {
     "end_time": "2021-09-27T00:45:42.862338Z",
     "start_time": "2021-09-27T00:45:41.367725Z"
    }
   },
   "outputs": [],
   "source": [
    "import torch\n",
    "import torchvision.transforms as transforms\n",
    "import torchvision\n",
    "import os\n",
    "import matplotlib.pyplot as plt\n",
    "from tqdm.notebook import tqdm"
   ]
  },
  {
   "cell_type": "code",
   "execution_count": null,
   "id": "71ed94d8",
   "metadata": {
    "ExecuteTime": {
     "end_time": "2021-09-27T00:45:42.905636Z",
     "start_time": "2021-09-27T00:45:42.863478Z"
    }
   },
   "outputs": [],
   "source": [
    "transformers = transforms.Compose([transforms.ToTensor(),\n",
    "                                  transforms.Resize((112,112))])\n",
    "dataset = torchvision.datasets.Caltech101(\"/Users/fredchan/datasets/\", download=True, \n",
    "                                                              transform=transformers)\n",
    "len(dataset)"
   ]
  },
  {
   "cell_type": "code",
   "execution_count": null,
   "id": "f4053496",
   "metadata": {
    "ExecuteTime": {
     "end_time": "2021-09-27T00:45:44.557744Z",
     "start_time": "2021-09-27T00:45:44.553118Z"
    }
   },
   "outputs": [],
   "source": [
    "loader = torch.utils.data.DataLoader(dataset, batch_size=12)"
   ]
  },
  {
   "cell_type": "code",
   "execution_count": null,
   "id": "29068425",
   "metadata": {
    "ExecuteTime": {
     "end_time": "2021-09-27T00:45:45.436098Z",
     "start_time": "2021-09-27T00:45:45.308002Z"
    }
   },
   "outputs": [],
   "source": [
    "imgs, labels = next(iter(loader))\n",
    "imgs.shape"
   ]
  },
  {
   "cell_type": "code",
   "execution_count": null,
   "id": "7fbcdbce",
   "metadata": {
    "ExecuteTime": {
     "end_time": "2021-09-27T00:45:46.782488Z",
     "start_time": "2021-09-27T00:45:46.234597Z"
    }
   },
   "outputs": [],
   "source": [
    "model = torchvision.models.resnet50(pretrained=True)\n",
    "model = torch.nn.Sequential(*list(model.children())[:-1])"
   ]
  },
  {
   "cell_type": "code",
   "execution_count": null,
   "id": "84e91d8d",
   "metadata": {
    "ExecuteTime": {
     "end_time": "2021-09-27T00:45:48.460526Z",
     "start_time": "2021-09-27T00:45:47.630769Z"
    }
   },
   "outputs": [],
   "source": [
    "out = model(imgs)\n",
    "out.shape"
   ]
  },
  {
   "cell_type": "code",
   "execution_count": null,
   "id": "a074ad18",
   "metadata": {
    "ExecuteTime": {
     "end_time": "2021-09-27T00:47:57.229192Z",
     "start_time": "2021-09-27T00:46:05.470281Z"
    }
   },
   "outputs": [],
   "source": [
    "features = []\n",
    "for imgs, labels in tqdm(loader):\n",
    "    feat = model(imgs)\n",
    "    features.append(feat)\n",
    "\n",
    "features = torch.stack(features).squeeze()"
   ]
  },
  {
   "cell_type": "code",
   "execution_count": null,
   "id": "6f65e8fd",
   "metadata": {
    "ExecuteTime": {
     "end_time": "2021-09-27T00:50:06.412539Z",
     "start_time": "2021-09-27T00:50:06.404873Z"
    }
   },
   "outputs": [],
   "source": [
    "imgs.shape\n"
   ]
  },
  {
   "cell_type": "code",
   "execution_count": null,
   "id": "0d656e62",
   "metadata": {},
   "outputs": [],
   "source": []
  }
 ],
 "metadata": {
  "kernelspec": {
   "display_name": "Python 3",
   "language": "python",
   "name": "python3"
  },
  "language_info": {
   "codemirror_mode": {
    "name": "ipython",
    "version": 3
   },
   "file_extension": ".py",
   "mimetype": "text/x-python",
   "name": "python",
   "nbconvert_exporter": "python",
   "pygments_lexer": "ipython3",
   "version": "3.8.8"
  }
 },
 "nbformat": 4,
 "nbformat_minor": 5
}
