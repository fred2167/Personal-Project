{
 "cells": [
  {
   "cell_type": "code",
   "execution_count": 1,
   "id": "e801d895",
   "metadata": {
    "ExecuteTime": {
     "end_time": "2021-09-27T23:40:24.979681Z",
     "start_time": "2021-09-27T23:40:24.516852Z"
    }
   },
   "outputs": [],
   "source": [
    "import torch\n",
    "import torchvision.transforms as transforms\n",
    "import torchvision\n",
    "import os\n",
    "import glob\n",
    "import imageio\n",
    "from collections import defaultdict\n",
    "import matplotlib.pyplot as plt\n",
    "from tqdm.notebook import tqdm, trange"
   ]
  },
  {
   "cell_type": "code",
   "execution_count": 2,
   "id": "71ed94d8",
   "metadata": {
    "ExecuteTime": {
     "end_time": "2021-09-27T23:40:25.016121Z",
     "start_time": "2021-09-27T23:40:24.989158Z"
    }
   },
   "outputs": [
    {
     "data": {
      "text/plain": [
       "8733"
      ]
     },
     "execution_count": 2,
     "metadata": {},
     "output_type": "execute_result"
    }
   ],
   "source": [
    "transformers = transforms.Compose([transforms.ToTensor(),\n",
    "                                  transforms.Resize((112, 112))])\n",
    "dataset = torchvision.datasets.ImageFolder(\"/home/fred/datasets/caltech101/101_ObjectCategories/\",\n",
    "                                           transform=transformers)\n",
    "len(dataset)"
   ]
  },
  {
   "cell_type": "code",
   "execution_count": 3,
   "id": "5f58f1fe",
   "metadata": {
    "ExecuteTime": {
     "end_time": "2021-09-27T23:40:25.293250Z",
     "start_time": "2021-09-27T23:40:25.289794Z"
    }
   },
   "outputs": [
    {
     "data": {
      "text/plain": [
       "'/home/fred/datasets/caltech101/101_ObjectCategories/BACKGROUND_Google/image_0011.jpg'"
      ]
     },
     "execution_count": 3,
     "metadata": {},
     "output_type": "execute_result"
    }
   ],
   "source": [
    "dataset.imgs[9][0]"
   ]
  },
  {
   "cell_type": "code",
   "execution_count": null,
   "id": "9f2b2ddf",
   "metadata": {
    "ExecuteTime": {
     "end_time": "2021-09-27T22:56:29.706937Z",
     "start_time": "2021-09-27T22:56:29.701136Z"
    }
   },
   "outputs": [],
   "source": [
    "img = imageio.imread(dataset.imgs[9][0])\n",
    "img = transformers(img)\n",
    "img.shape"
   ]
  },
  {
   "cell_type": "code",
   "execution_count": null,
   "id": "5ca6193d",
   "metadata": {
    "ExecuteTime": {
     "end_time": "2021-09-27T03:36:09.508284Z",
     "start_time": "2021-09-27T03:36:09.506338Z"
    }
   },
   "outputs": [],
   "source": [
    "'''\n",
    "Remove black and white images in caltech101\n",
    "'''\n",
    "# folders = glob.glob(\"/home/fred/datasets/caltech101/101_ObjectCategories/*\")\n",
    "# for folder in folders:\n",
    "#     img_paths = glob.glob(folder+'/*.jpg')\n",
    "#     for im_path in img_paths:\n",
    "#         img = imageio.imread(im_path)\n",
    "#         if len(img.shape) != 3:\n",
    "#             os.remove(im_path)"
   ]
  },
  {
   "cell_type": "code",
   "execution_count": null,
   "id": "f4053496",
   "metadata": {
    "ExecuteTime": {
     "end_time": "2021-09-27T22:14:38.486348Z",
     "start_time": "2021-09-27T22:14:38.483922Z"
    }
   },
   "outputs": [],
   "source": [
    "loader = torch.utils.data.DataLoader(dataset, batch_size=128)"
   ]
  },
  {
   "cell_type": "code",
   "execution_count": null,
   "id": "29068425",
   "metadata": {
    "ExecuteTime": {
     "end_time": "2021-09-27T22:14:39.394555Z",
     "start_time": "2021-09-27T22:14:39.109147Z"
    }
   },
   "outputs": [],
   "source": [
    "imgs, labels = next(iter(loader))\n",
    "imgs.shape"
   ]
  },
  {
   "cell_type": "code",
   "execution_count": null,
   "id": "acbbddcc",
   "metadata": {
    "ExecuteTime": {
     "end_time": "2021-09-27T22:16:11.743473Z",
     "start_time": "2021-09-27T22:16:11.679785Z"
    }
   },
   "outputs": [],
   "source": [
    "plt.imshow(imgs[9].permute(1,2,0))\n"
   ]
  },
  {
   "cell_type": "code",
   "execution_count": null,
   "id": "7fbcdbce",
   "metadata": {
    "ExecuteTime": {
     "end_time": "2021-09-27T03:36:12.763546Z",
     "start_time": "2021-09-27T03:36:12.444524Z"
    }
   },
   "outputs": [],
   "source": [
    "model = torchvision.models.resnet50(pretrained=True)\n",
    "model = torch.nn.Sequential(*list(model.children())[:-1])"
   ]
  },
  {
   "cell_type": "code",
   "execution_count": null,
   "id": "84e91d8d",
   "metadata": {
    "ExecuteTime": {
     "end_time": "2021-09-27T03:36:14.285346Z",
     "start_time": "2021-09-27T03:36:13.183432Z"
    }
   },
   "outputs": [],
   "source": [
    "out = model(imgs)\n",
    "out.shape"
   ]
  },
  {
   "cell_type": "code",
   "execution_count": null,
   "id": "a074ad18",
   "metadata": {
    "ExecuteTime": {
     "end_time": "2021-09-27T03:36:26.872189Z",
     "start_time": "2021-09-27T03:36:14.286041Z"
    }
   },
   "outputs": [],
   "source": [
    "features = []\n",
    "model = model.cuda(0)\n",
    "for imgs, labels in tqdm(loader):\n",
    "    imgs = imgs.cuda(0)\n",
    "    feat = model(imgs)\n",
    "    features.append(feat.detach().cpu())\n",
    "    del imgs\n",
    "\n",
    "features = torch.cat(features).squeeze()"
   ]
  },
  {
   "cell_type": "code",
   "execution_count": null,
   "id": "019fbb5e",
   "metadata": {
    "ExecuteTime": {
     "end_time": "2021-09-27T03:41:14.305961Z",
     "start_time": "2021-09-27T03:41:14.245472Z"
    }
   },
   "outputs": [],
   "source": [
    "# path = \"/home/fred/datasets/caltech101/feature_tensor.pt\"\n",
    "# with open(path, 'wb') as f:\n",
    "#     torch.save(features, f)"
   ]
  },
  {
   "cell_type": "code",
   "execution_count": null,
   "id": "dfecd958",
   "metadata": {
    "ExecuteTime": {
     "end_time": "2021-09-27T21:20:42.075698Z",
     "start_time": "2021-09-27T21:20:42.051829Z"
    }
   },
   "outputs": [],
   "source": [
    "path = \"/home/fred/datasets/caltech101/feature_tensor.pt\"\n",
    "with open(path, 'rb') as f:\n",
    "    features = torch.load(f)\n",
    "features.shape"
   ]
  },
  {
   "cell_type": "code",
   "execution_count": null,
   "id": "51cb213a",
   "metadata": {
    "ExecuteTime": {
     "end_time": "2021-09-27T21:33:32.895725Z",
     "start_time": "2021-09-27T21:33:32.870851Z"
    }
   },
   "outputs": [],
   "source": [
    "img_paths = []\n",
    "folders = glob.glob(\"/home/fred/datasets/caltech101/101_ObjectCategories/*\")\n",
    "for folder in folders:\n",
    "    for path in glob.glob(folder+\"/*\"):\n",
    "        img_paths.append(path)\n",
    "\n",
    "img_paths"
   ]
  },
  {
   "cell_type": "code",
   "execution_count": 7,
   "id": "6f65e8fd",
   "metadata": {
    "ExecuteTime": {
     "end_time": "2021-09-27T23:41:00.021904Z",
     "start_time": "2021-09-27T23:41:00.011710Z"
    }
   },
   "outputs": [],
   "source": [
    "class LSH:\n",
    "\n",
    "    def __init__(self, hash_dim, batch=128):\n",
    "        self.hash_dim = hash_dim\n",
    "        self.batch = batch\n",
    "        self.hash_dict = defaultdict(list)\n",
    "        \n",
    "        self.device = torch.device(\"cuda:0\") \\\n",
    "            if torch.cuda.is_available() else torch.device(\"cpu\")\n",
    "        self.transformers = transforms.Compose([transforms.ToTensor(),\n",
    "                                                transforms.Resize((112, 112))])\n",
    "        \n",
    "        model = torchvision.models.resnet50(pretrained=True)\n",
    "        self.feature_extractor = torch.nn.Sequential(*list(model.children())[:-1]).to(self.device)\n",
    "        self.feat_dim = 2048\n",
    "        \n",
    "        self.hyperplanes = torch.randn((self.feat_dim, self.hash_dim), device=self.device)\n",
    "    \n",
    "    def _imgToFeatures(self, img_tensors):\n",
    "        return self.feature_extractor(img_tensors).squeeze_()\n",
    "\n",
    "    def _toTuple(self, tensor):\n",
    "        return tuple(tensor.tolist())\n",
    "\n",
    "    def _getHashes(self, features):\n",
    "        \n",
    "        if len(features.shape) == 1:\n",
    "            features.unsqueeze_(0)\n",
    "\n",
    "        hashes = features @ self.hyperplanes  # (batch, hash dim)\n",
    "        \n",
    "        hashes[hashes < 0] = 0\n",
    "        hashes[hashes > 0] = 1\n",
    "        return hashes.to(torch.int8).cpu()\n",
    "\n",
    "    def build(self, root):\n",
    "        \n",
    "        dataset = torchvision.datasets.ImageFolder(root, transform=self.transformers)\n",
    "        loader = torch.utils.data.DataLoader(dataset, batch_size=self.batch)\n",
    "        \n",
    "        all_hashes = []\n",
    "        for img_batch, _ in tqdm(loader, desc=\"Hashing\"):\n",
    "            features = self._imgToFeatures(img_batch.to(self.device))\n",
    "            hashes = self._getHashes(features)\n",
    "            all_hashes.append(hashes)\n",
    "        all_hashes = torch.cat(all_hashes, dim=0)\n",
    "\n",
    "        \n",
    "        B = all_hashes.shape[0]\n",
    "        for i in trange(B, desc=\"Buidling table\"):\n",
    "            tupleHash = self._toTuple(all_hashes[i, :])\n",
    "            self.hash_dict[tupleHash].append((dataset.imgs[i][0]))\n",
    "\n",
    "        return self.hash_dict\n",
    "\n",
    "    def query(self, q_paths):\n",
    "        \n",
    "        for q_path in q_paths:\n",
    "            img = imageio.imread(q_path)\n",
    "            img = self.transformers(img).unsqueeze_(0).to(self.device)\n",
    "            \n",
    "            feat = self._imgToFeatures(img)\n",
    "            img_hash = self._getHashes(feat).squeeze()\n",
    "            \n",
    "            assert len(img_hash.shape) == 1, f\"hash has wrong shape {img_hash.shape}\"\n",
    "            \n",
    "            match_set = self.hash_dict[self._toTuple(img_hash)]\n",
    "            \n",
    "        return match_set\n",
    "            "
   ]
  },
  {
   "cell_type": "code",
   "execution_count": null,
   "id": "0d656e62",
   "metadata": {
    "ExecuteTime": {
     "start_time": "2021-09-27T23:41:00.680Z"
    }
   },
   "outputs": [
    {
     "data": {
      "application/vnd.jupyter.widget-view+json": {
       "model_id": "7abe39aa7dde465f9808512243be12da",
       "version_major": 2,
       "version_minor": 0
      },
      "text/plain": [
       "Hashing:   0%|          | 0/69 [00:00<?, ?it/s]"
      ]
     },
     "metadata": {},
     "output_type": "display_data"
    }
   ],
   "source": [
    "root = \"/home/fred/datasets/caltech101/101_ObjectCategories/\"\n",
    "lsh = LSH(hash_dim=8)\n",
    "\n",
    "hash_dict = lsh.build(root)"
   ]
  },
  {
   "cell_type": "code",
   "execution_count": null,
   "id": "bbd3297b",
   "metadata": {
    "ExecuteTime": {
     "end_time": "2021-09-27T23:26:05.350218Z",
     "start_time": "2021-09-27T23:26:05.348276Z"
    }
   },
   "outputs": [],
   "source": [
    "dataset.imgs[-8][0]"
   ]
  },
  {
   "cell_type": "code",
   "execution_count": 6,
   "id": "bc91a0f5",
   "metadata": {
    "ExecuteTime": {
     "end_time": "2021-09-27T23:40:46.904165Z",
     "start_time": "2021-09-27T23:40:46.850877Z"
    }
   },
   "outputs": [
    {
     "ename": "TypeError",
     "evalue": "_getHashes() takes 2 positional arguments but 3 were given",
     "output_type": "error",
     "traceback": [
      "\u001b[0;31m---------------------------------------------------------------------------\u001b[0m",
      "\u001b[0;31mTypeError\u001b[0m                                 Traceback (most recent call last)",
      "\u001b[0;32m<ipython-input-6-d6b54a23d67f>\u001b[0m in \u001b[0;36m<module>\u001b[0;34m\u001b[0m\n\u001b[0;32m----> 1\u001b[0;31m \u001b[0mlsh\u001b[0m\u001b[0;34m.\u001b[0m\u001b[0mquery\u001b[0m\u001b[0;34m(\u001b[0m\u001b[0;34m[\u001b[0m\u001b[0mdataset\u001b[0m\u001b[0;34m.\u001b[0m\u001b[0mimgs\u001b[0m\u001b[0;34m[\u001b[0m\u001b[0;34m-\u001b[0m\u001b[0;36m8\u001b[0m\u001b[0;34m]\u001b[0m\u001b[0;34m[\u001b[0m\u001b[0;36m0\u001b[0m\u001b[0;34m]\u001b[0m\u001b[0;34m]\u001b[0m\u001b[0;34m)\u001b[0m\u001b[0;34m\u001b[0m\u001b[0;34m\u001b[0m\u001b[0m\n\u001b[0m",
      "\u001b[0;32m<ipython-input-4-21b733909921>\u001b[0m in \u001b[0;36mquery\u001b[0;34m(self, q_paths)\u001b[0m\n\u001b[1;32m     61\u001b[0m \u001b[0;34m\u001b[0m\u001b[0m\n\u001b[1;32m     62\u001b[0m             \u001b[0mfeat\u001b[0m \u001b[0;34m=\u001b[0m \u001b[0mself\u001b[0m\u001b[0;34m.\u001b[0m\u001b[0m_imgToFeatures\u001b[0m\u001b[0;34m(\u001b[0m\u001b[0mimg\u001b[0m\u001b[0;34m)\u001b[0m\u001b[0;34m\u001b[0m\u001b[0;34m\u001b[0m\u001b[0m\n\u001b[0;32m---> 63\u001b[0;31m             \u001b[0mimg_hash\u001b[0m \u001b[0;34m=\u001b[0m \u001b[0mself\u001b[0m\u001b[0;34m.\u001b[0m\u001b[0m_getHashes\u001b[0m\u001b[0;34m(\u001b[0m\u001b[0mfeat\u001b[0m\u001b[0;34m,\u001b[0m \u001b[0mself\u001b[0m\u001b[0;34m.\u001b[0m\u001b[0mhyperplanes\u001b[0m\u001b[0;34m)\u001b[0m\u001b[0;34m.\u001b[0m\u001b[0msqueeze\u001b[0m\u001b[0;34m(\u001b[0m\u001b[0;34m)\u001b[0m\u001b[0;34m\u001b[0m\u001b[0;34m\u001b[0m\u001b[0m\n\u001b[0m\u001b[1;32m     64\u001b[0m \u001b[0;34m\u001b[0m\u001b[0m\n\u001b[1;32m     65\u001b[0m             \u001b[0;32massert\u001b[0m \u001b[0mlen\u001b[0m\u001b[0;34m(\u001b[0m\u001b[0mimg_hash\u001b[0m\u001b[0;34m.\u001b[0m\u001b[0mshape\u001b[0m\u001b[0;34m)\u001b[0m \u001b[0;34m==\u001b[0m \u001b[0;36m1\u001b[0m\u001b[0;34m,\u001b[0m \u001b[0;34mf\"hash has wrong shape {img_hash.shape}\"\u001b[0m\u001b[0;34m\u001b[0m\u001b[0;34m\u001b[0m\u001b[0m\n",
      "\u001b[0;31mTypeError\u001b[0m: _getHashes() takes 2 positional arguments but 3 were given"
     ]
    }
   ],
   "source": [
    "lsh.query([dataset.imgs[-8][0]])"
   ]
  },
  {
   "cell_type": "code",
   "execution_count": null,
   "id": "5c302761",
   "metadata": {},
   "outputs": [],
   "source": []
  },
  {
   "cell_type": "code",
   "execution_count": null,
   "id": "e56211eb",
   "metadata": {},
   "outputs": [],
   "source": []
  }
 ],
 "metadata": {
  "kernelspec": {
   "display_name": "Python 3",
   "language": "python",
   "name": "python3"
  },
  "language_info": {
   "codemirror_mode": {
    "name": "ipython",
    "version": 3
   },
   "file_extension": ".py",
   "mimetype": "text/x-python",
   "name": "python",
   "nbconvert_exporter": "python",
   "pygments_lexer": "ipython3",
   "version": "3.8.8"
  },
  "toc": {
   "base_numbering": 1,
   "nav_menu": {},
   "number_sections": true,
   "sideBar": true,
   "skip_h1_title": false,
   "title_cell": "Table of Contents",
   "title_sidebar": "Contents",
   "toc_cell": false,
   "toc_position": {},
   "toc_section_display": true,
   "toc_window_display": false
  }
 },
 "nbformat": 4,
 "nbformat_minor": 5
}
