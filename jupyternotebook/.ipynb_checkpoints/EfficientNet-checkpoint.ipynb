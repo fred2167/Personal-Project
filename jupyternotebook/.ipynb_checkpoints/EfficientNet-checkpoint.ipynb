{
 "cells": [
  {
   "cell_type": "code",
   "execution_count": 1,
   "metadata": {
    "executionInfo": {
     "elapsed": 4042,
     "status": "ok",
     "timestamp": 1609383655174,
     "user": {
      "displayName": "Fred Chan",
      "photoUrl": "",
      "userId": "10478538744186061255"
     },
     "user_tz": 480
    },
    "id": "u_zWnACgdXAv"
   },
   "outputs": [],
   "source": [
    "import torch\n",
    "import torchvision\n",
    "import torchvision.transforms as transform\n",
    "import torch.nn as nn\n",
    "import torch.nn.functional as F\n",
    "import math\n",
    "import matplotlib.pyplot as plt\n",
    "from torchsummary import summary\n",
    "import numpy as np\n",
    "import time\n",
    "\n",
    "to_float_cuda = {\"dtype\": torch.float32, \"device\":\"cuda\"}"
   ]
  },
  {
   "cell_type": "code",
   "execution_count": null,
   "metadata": {
    "colab": {
     "base_uri": "https://localhost:8080/",
     "height": 100,
     "referenced_widgets": [
      "9358c8bfbb554acf8280c0983cd5e6bb",
      "9de33e3d950d46528d8cdfb6f4293675",
      "ee88fa9ee77a438ebbaa2f1fd677b41c",
      "ba023149fc26400a86b2a71057d96bda",
      "19beb12cb5a546ca88c689d985af56bc",
      "2913b44de53c43fb93b5effba850301f",
      "b973abf20aeb41d2804944acf0451ae2",
      "43022c33285d4d489f0347e8e884c2f7"
     ]
    },
    "executionInfo": {
     "elapsed": 9177,
     "status": "ok",
     "timestamp": 1609383660315,
     "user": {
      "displayName": "Fred Chan",
      "photoUrl": "",
      "userId": "10478538744186061255"
     },
     "user_tz": 480
    },
    "id": "BUqY8H0ueM_g",
    "outputId": "01cb84ff-d8db-433c-85bd-30c62b433521"
   },
   "outputs": [
    {
     "name": "stdout",
     "output_type": "stream",
     "text": [
      "Downloading https://www.cs.toronto.edu/~kriz/cifar-10-python.tar.gz to /home/fred/home/datasets/cifar-10-python.tar.gz\n"
     ]
    },
    {
     "data": {
      "application/vnd.jupyter.widget-view+json": {
       "model_id": "53867bf0ddbb46fc8238cc0a41a302d2",
       "version_major": 2,
       "version_minor": 0
      },
      "text/plain": [
       "HBox(children=(HTML(value=''), FloatProgress(value=1.0, bar_style='info', layout=Layout(width='20px'), max=1.0…"
      ]
     },
     "metadata": {},
     "output_type": "display_data"
    }
   ],
   "source": [
    "transformer = transform.Compose([\n",
    "                                transform.Resize(256),\n",
    "                                transform.CenterCrop(224),\n",
    "                                transform.ToTensor(),\n",
    "                                transform.Normalize((0.5,0.5,0.5),(0.5,0.5,0.5))\n",
    "])\n",
    "train_dataset = torchvision.datasets.CIFAR10(\"~/home/datasets\",train=True, transform=transformer,download=True)\n",
    "trainloader = torch.utils.data.DataLoader(train_dataset,batch_size=64,shuffle=True,num_workers=2)\n",
    "\n",
    "dev_dataset = torchvision.datasets.CIFAR10(\".~/home/datasets\",train=False, transform=transformer,download=True)\n",
    "devloader = torch.utils.data.DataLoader(dev_dataset,batch_size=64,shuffle=True,num_workers=2)"
   ]
  },
  {
   "cell_type": "code",
   "execution_count": null,
   "metadata": {
    "colab": {
     "base_uri": "https://localhost:8080/",
     "height": 286
    },
    "executionInfo": {
     "elapsed": 10913,
     "status": "ok",
     "timestamp": 1609383662056,
     "user": {
      "displayName": "Fred Chan",
      "photoUrl": "",
      "userId": "10478538744186061255"
     },
     "user_tz": 480
    },
    "id": "JLX55a_56gTn",
    "outputId": "06c58b6d-018e-4700-f2c9-66c1124c6561"
   },
   "outputs": [],
   "source": [
    "def imshow(img):\n",
    "  img = img /2 +0.5\n",
    "  npimg = img.numpy()\n",
    "  plt.imshow(np.transpose(npimg,(1,2,0)))\n",
    "  plt.show\n",
    "\n",
    "dataiter = iter(trainloader)\n",
    "images, label = dataiter.next()\n",
    "imshow(torchvision.utils.make_grid(images))"
   ]
  },
  {
   "cell_type": "code",
   "execution_count": null,
   "metadata": {
    "executionInfo": {
     "elapsed": 10913,
     "status": "ok",
     "timestamp": 1609383662057,
     "user": {
      "displayName": "Fred Chan",
      "photoUrl": "",
      "userId": "10478538744186061255"
     },
     "user_tz": 480
    },
    "id": "NrNgswWHiV4p"
   },
   "outputs": [],
   "source": [
    "class SE_block (nn.Module):\n",
    "  '''\n",
    "  Squeeze and Excitation block\n",
    "  Some channels may be more important than another, therefore create a weight for number\n",
    "  of channels allow the network to prioritize different channels.\n",
    "  Sigmoid is used to ensure the outputs are between 0 and 1.\n",
    "\n",
    "  Inputs:\n",
    "  - in_channel: num of channels for the input feature maps (after expand)\n",
    "  - ratio: Used to reduce dimension in linear layers, original paper default value = 16\n",
    "  - has_se: Equal Ture when MBConv kernel size is 5, otherwise False\n",
    "  Outpus:\n",
    "  - A weighted output with the same shape with input, if has_se == Flase, return identity\n",
    "\n",
    "  Note:\n",
    "  - Actual implementaion of SE paper use linear but EfficientNet used Conv2d with kernel size 1 with original input channels (before expand) * 0.25. \n",
    "    Here I convert in_channel back to number of channels before expansion and devide by 4 to match the implementation of EffcientNet as close as possible.\n",
    "    However, I cant use Conv2d without major change after global average pooling. Therefore, I kept the linear layer.\n",
    "    I suspect it make little difference between the two.\n",
    "  '''\n",
    "  def __init__(self,in_channel, channel_expand_factor, ratio= 4):\n",
    "    super().__init__()\n",
    "\n",
    "    intermediate_channel = int((in_channel / channel_expand_factor) // ratio)\n",
    "    \n",
    "    self.weights = nn.Sequential(\n",
    "                                nn.AdaptiveAvgPool2d((1,1)),\n",
    "                                nn.Flatten(),\n",
    "                                nn.Linear(in_channel,intermediate_channel),\n",
    "                                nn.ReLU(),\n",
    "                                nn.Linear(intermediate_channel, in_channel),\n",
    "                                nn.Sigmoid()\n",
    "                                )\n",
    "\n",
    "  def forward (self,x):\n",
    "      return x * self.weights(x).unsqueeze(-1).unsqueeze(-1)\n",
    "\n",
    "class MBConv_block(nn.Module):\n",
    "  '''\n",
    "  Inputs:\n",
    "    - channel_expand_factor: channel expand coeffient within inverse bottleneck block\n",
    "    - keepdim: if ture, keep dimention of input's width, and height the same for output\n",
    "               if false, input height and width are downsample by a factor of 2 \n",
    "  Note:\n",
    "    - Convolution bias parameters are turned off for layer right before batchnorm, since batchnorm eliminate any biases affects\n",
    "    - Actually implementation use Swish activation\n",
    "  '''\n",
    "\n",
    "  def __init__ (self, in_channel, out_channel, kernel_size, drop_rate_= 0.2, channel_expand_factor=6, keepdim=True):\n",
    "    super().__init__()\n",
    "    self.drop_rate_ = drop_rate_\n",
    "    self.residual = keepdim and in_channel == out_channel\n",
    "\n",
    "    intermidiate_channels = in_channel*channel_expand_factor\n",
    "    pad = (kernel_size - 1) // 2\n",
    "\n",
    "    # if keepdim, image size are not changing\n",
    "    stride = 1 if keepdim else 2\n",
    "\n",
    "    self.inv_bottleneck_block = nn.Sequential(\n",
    "                                              nn.Conv2d(in_channel, intermidiate_channels, kernel_size=1, bias=False),\n",
    "                                              nn.BatchNorm2d(intermidiate_channels),\n",
    "                                              nn.ReLU(),\n",
    "                                              nn.Conv2d(intermidiate_channels, intermidiate_channels, kernel_size, stride, pad, groups=intermidiate_channels, bias= False), # Depthwise Conv\n",
    "                                              nn.BatchNorm2d(intermidiate_channels),\n",
    "                                              nn.ReLU(),\n",
    "                                              SE_block(intermidiate_channels, channel_expand_factor),\n",
    "                                              nn.Conv2d(intermidiate_channels, out_channel, kernel_size=1, bias=False),\n",
    "                                              nn.BatchNorm2d(out_channel),\n",
    "                                              )\n",
    "    \n",
    "\n",
    "  def forward (self, x):\n",
    "    \n",
    "    output = self.inv_bottleneck_block(x)\n",
    "\n",
    "    # dropout only using where there is a residual connection\n",
    "    if self.residual:\n",
    "      return F.dropout(output, self.drop_rate_, self.training)  +  x\n",
    "    else:\n",
    "      return output\n",
    "\n",
    "\n",
    "class MBConv_stage (nn.Module):\n",
    "\n",
    "  def __init__(self, in_channel_, out_channel_, kernel_size_, channel_expand_factor_, num_layers_, drop_rate_= 0.2, stage_downsample_= True):\n",
    "    super().__init__()\n",
    "\n",
    "    module_list = nn.ModuleList()\n",
    "\n",
    "    for i in range(num_layers_):\n",
    "      cin = in_channel_ if i == 0 else out_channel_                             # first case where input channels equal actual inputs, otherwise it equals to output channels\n",
    "      keepdim = False if i == num_layers_ - 1 and stage_downsample_ else True   # last case where we want to downsample the image width and height by a factor of 2 if stage_downsample_ = True\n",
    "      \n",
    "      module_list.append(MBConv_block(cin, out_channel_, kernel_size_, drop_rate_, channel_expand_factor_, keepdim))\n",
    "\n",
    "    self.stage = nn.Sequential(*module_list)\n",
    "  def forward(self, x):\n",
    "    return self.stage(x)\n",
    "\n"
   ]
  },
  {
   "cell_type": "code",
   "execution_count": 5,
   "metadata": {
    "executionInfo": {
     "elapsed": 10911,
     "status": "ok",
     "timestamp": 1609383662057,
     "user": {
      "displayName": "Fred Chan",
      "photoUrl": "",
      "userId": "10478538744186061255"
     },
     "user_tz": 480
    },
    "id": "XajwqqLXc7DV"
   },
   "outputs": [],
   "source": [
    "class SwishImplementation(torch.autograd.Function):\n",
    "    @staticmethod\n",
    "    def forward(ctx, i):\n",
    "        result = i * torch.sigmoid(i)\n",
    "        ctx.save_for_backward(i)\n",
    "        return result\n",
    "\n",
    "    @staticmethod\n",
    "    def backward(ctx, grad_output):\n",
    "        i = ctx.saved_tensors[0]\n",
    "        sigmoid_i = torch.sigmoid(i)\n",
    "        return grad_output * (sigmoid_i * (1 + i * (1 - sigmoid_i)))\n",
    "\n",
    "class MemoryEfficientSwish(nn.Module):\n",
    "    def forward(self, x):\n",
    "        return SwishImplementation.apply(x)\n",
    "\n",
    "# Paper original helper function\n",
    "def round_filters(filters, width_coefficient, depth_divisor= 8):\n",
    "    \"\"\"Round number of filters based on width multiplier.\"\"\"\n",
    "\n",
    "    filters *= width_coefficient\n",
    "    new_filters = int(filters + depth_divisor / 2) // depth_divisor * depth_divisor\n",
    "    new_filters = max(depth_divisor, new_filters)\n",
    "    # Make sure that round down does not go down by more than 10%.\n",
    "    if new_filters < 0.9 * filters:\n",
    "        new_filters += depth_divisor\n",
    "    return int(new_filters)"
   ]
  },
  {
   "cell_type": "code",
   "execution_count": 6,
   "metadata": {
    "executionInfo": {
     "elapsed": 10910,
     "status": "ok",
     "timestamp": 1609383662057,
     "user": {
      "displayName": "Fred Chan",
      "photoUrl": "",
      "userId": "10478538744186061255"
     },
     "user_tz": 480
    },
    "id": "BOTyCXHFpkxu"
   },
   "outputs": [],
   "source": [
    "class efficientNet (nn.Module):\n",
    "  '''\n",
    "  \n",
    "  TODO:\n",
    "    - Figure out how to scale stage 1 and stage 9. ANSWER: stem and top dont scale\n",
    "    - Base model parameters number are now correct, need to check fi scaling rule. \n",
    "        -output channels is round or ceil?\n",
    "    - There are dropout layer in implementation but not in papaer, ADDED\n",
    "\n",
    "    - FIND drop rate details\n",
    "\n",
    "  '''\n",
    "\n",
    "  def __init__(self,fi=0, num_classes=10):\n",
    "    super().__init__()\n",
    "\n",
    "    # alpha = 1.2 **fi    #Depth, num of layers\n",
    "    # beta = 1.1 **fi     #Width, num of channels\n",
    "    # gemma = 1.15 **fi   #Resolution, NOT USED in implementation, however, it roughly determine input resolution, B0: 224, B1: 240, B2: 260, B3: 300, B4: 380, B5: 456, B6: 528, B7: 600, L2: 800\n",
    "\n",
    "    classifier_dropout = {0: 0.2, 1: 0.2, 2: 0.3, 3: 0.3, 4: 0.4, 5: 0.4, 6: 0.5, 7: 0.5, \"L2\": 0.5}\n",
    "    width_multiplier = {0: 1, 1: 1, 2: 1.1, 3: 1.2, 4: 1.4, 5: 1.6, 6: 1.8, 7: 2, \"L2\": 4.3} # Beta ~= 1.1 ** fi\n",
    "    depth_multiplier = {0: 1, 1: 1.1, 2: 1.2, 3: 1.4, 4: 1.8, 5: 2.2, 6: 2.6, 7: 3.1, \"L2\": 5.3} # Alpha ~= 1.2 ** fi\n",
    "\n",
    "    stage_1_param = {\"output_channels\": round_filters(32, width_multiplier[fi]),\n",
    "                     \"kernel_size\": 3}\n",
    "\n",
    "    stage_2_param = {\"output_channels\": round_filters(16, width_multiplier[fi]),\n",
    "                     \"kernel_size\": 3,\n",
    "                     \"channel_expand_factor\": 1,\n",
    "                     \"num_layers\": math.ceil(1 * depth_multiplier[fi]),\n",
    "                     \"stage_downsample\": False}\n",
    "\n",
    "    stage_3_param = {\"output_channels\": round_filters(24, width_multiplier[fi]),\n",
    "                     \"kernel_size\": 3,\n",
    "                     \"channel_expand_factor\": 6,\n",
    "                     \"num_layers\": math.ceil(2 * depth_multiplier[fi]),\n",
    "                     \"stage_downsample\": True}\n",
    "\n",
    "    stage_4_param = {\"output_channels\": round_filters(40, width_multiplier[fi]),\n",
    "                     \"kernel_size\": 5,\n",
    "                     \"channel_expand_factor\": 6,\n",
    "                     \"num_layers\": math.ceil(2 * depth_multiplier[fi]),\n",
    "                     \"stage_downsample\": True}\n",
    "\n",
    "    stage_5_param = {\"output_channels\": round_filters(80, width_multiplier[fi]),\n",
    "                     \"kernel_size\": 3,\n",
    "                     \"channel_expand_factor\": 6,\n",
    "                     \"num_layers\": math.ceil(3 * depth_multiplier[fi]),\n",
    "                     \"stage_downsample\": True}     \n",
    "\n",
    "    stage_6_param = {\"output_channels\": round_filters(112, width_multiplier[fi]),\n",
    "                     \"kernel_size\": 5,\n",
    "                     \"channel_expand_factor\": 6,\n",
    "                     \"num_layers\": math.ceil(3 * depth_multiplier[fi]),\n",
    "                     \"stage_downsample\": False}\n",
    "\n",
    "    stage_7_param = {\"output_channels\": round_filters(192, width_multiplier[fi]),\n",
    "                     \"kernel_size\": 5,\n",
    "                     \"channel_expand_factor\": 6,\n",
    "                     \"num_layers\": math.ceil(4 * depth_multiplier[fi]),\n",
    "                     \"stage_downsample\": True}\n",
    "\n",
    "    stage_8_param = {\"output_channels\": round_filters(320, width_multiplier[fi]),\n",
    "                     \"kernel_size\": 3,\n",
    "                     \"channel_expand_factor\": 6,\n",
    "                     \"num_layers\": math.ceil(1 * depth_multiplier[fi]),\n",
    "                     \"stage_downsample\": False}\n",
    "\n",
    "    stage_9_param = {\"output_channels\": round_filters(1280, width_multiplier[fi]),\n",
    "                     \"kernel_size\": 1}\n",
    "\n",
    "    #TODO\n",
    "    drop_rate = 0.2\n",
    "\n",
    "    stage_1 = nn.Sequential(nn.Conv2d(3,stage_1_param[\"output_channels\"],stage_1_param[\"kernel_size\"],stride=2, padding= 1, bias= False),\n",
    "                            nn.BatchNorm2d(stage_1_param[\"output_channels\"]),\n",
    "                            nn.ReLU())\n",
    "    \n",
    "    stage_2 = MBConv_stage(stage_1_param[\"output_channels\"],stage_2_param[\"output_channels\"],stage_2_param[\"kernel_size\"],stage_2_param[\"channel_expand_factor\"],stage_2_param[\"num_layers\"],drop_rate, stage_2_param[\"stage_downsample\"])\n",
    "\n",
    "    stage_3 = MBConv_stage(stage_2_param[\"output_channels\"],stage_3_param[\"output_channels\"],stage_3_param[\"kernel_size\"],stage_3_param[\"channel_expand_factor\"],stage_3_param[\"num_layers\"],drop_rate, stage_3_param[\"stage_downsample\"])\n",
    "                \n",
    "    stage_4 = MBConv_stage(stage_3_param[\"output_channels\"],stage_4_param[\"output_channels\"],stage_4_param[\"kernel_size\"],stage_4_param[\"channel_expand_factor\"],stage_4_param[\"num_layers\"],drop_rate, stage_4_param[\"stage_downsample\"])\n",
    "   \n",
    "    stage_5 = MBConv_stage(stage_4_param[\"output_channels\"],stage_5_param[\"output_channels\"],stage_5_param[\"kernel_size\"],stage_5_param[\"channel_expand_factor\"],stage_5_param[\"num_layers\"],drop_rate, stage_5_param[\"stage_downsample\"])   \n",
    "                              \n",
    "    stage_6 = MBConv_stage(stage_5_param[\"output_channels\"],stage_6_param[\"output_channels\"],stage_6_param[\"kernel_size\"],stage_6_param[\"channel_expand_factor\"],stage_6_param[\"num_layers\"],drop_rate, stage_6_param[\"stage_downsample\"])\n",
    "                              \n",
    "    stage_7 = MBConv_stage(stage_6_param[\"output_channels\"],stage_7_param[\"output_channels\"],stage_7_param[\"kernel_size\"],stage_7_param[\"channel_expand_factor\"],stage_7_param[\"num_layers\"],drop_rate, stage_7_param[\"stage_downsample\"])\n",
    "                              \n",
    "    stage_8 = MBConv_stage(stage_7_param[\"output_channels\"],stage_8_param[\"output_channels\"],stage_8_param[\"kernel_size\"],stage_8_param[\"channel_expand_factor\"],stage_8_param[\"num_layers\"],drop_rate, stage_8_param[\"stage_downsample\"])\n",
    "    \n",
    "    stage_9 = nn. Sequential( nn.Conv2d(stage_8_param[\"output_channels\"], stage_9_param[\"output_channels\"], stage_9_param[\"kernel_size\"], bias= False),\n",
    "                              nn.BatchNorm2d(stage_9_param[\"output_channels\"]),\n",
    "                              nn.ReLU(),\n",
    "                              nn.AdaptiveAvgPool2d((1,1)),\n",
    "                              nn.Flatten(),\n",
    "                              nn.Dropout(classifier_dropout[fi]),\n",
    "                              nn.Linear(stage_9_param[\"output_channels\"], num_classes))\n",
    "    \n",
    "    self.model = nn.Sequential(stage_1,\n",
    "                               stage_2,\n",
    "                               stage_3,\n",
    "                               stage_4,\n",
    "                               stage_5,\n",
    "                               stage_6,\n",
    "                               stage_7,\n",
    "                               stage_8,\n",
    "                               stage_9)\n",
    "  def forward(self,x):\n",
    "    return self.model(x);\n"
   ]
  },
  {
   "cell_type": "code",
   "execution_count": 7,
   "metadata": {
    "executionInfo": {
     "elapsed": 10907,
     "status": "ok",
     "timestamp": 1609383662058,
     "user": {
      "displayName": "Fred Chan",
      "photoUrl": "",
      "userId": "10478538744186061255"
     },
     "user_tz": 480
    },
    "id": "bHdZAS0086uv"
   },
   "outputs": [],
   "source": [
    "# model = efficientNet(fi=0, num_classes=1000).cuda()\n",
    "# test = model(images[0].unsqueeze(0).cuda())\n",
    "# test.shape"
   ]
  },
  {
   "cell_type": "code",
   "execution_count": 8,
   "metadata": {
    "executionInfo": {
     "elapsed": 10904,
     "status": "ok",
     "timestamp": 1609383662058,
     "user": {
      "displayName": "Fred Chan",
      "photoUrl": "",
      "userId": "10478538744186061255"
     },
     "user_tz": 480
    },
    "id": "6IpAMp_v_DaX"
   },
   "outputs": [],
   "source": [
    "# summary(model, (3,224,224))"
   ]
  },
  {
   "cell_type": "code",
   "execution_count": 9,
   "metadata": {
    "executionInfo": {
     "elapsed": 11299,
     "status": "ok",
     "timestamp": 1609383662455,
     "user": {
      "displayName": "Fred Chan",
      "photoUrl": "",
      "userId": "10478538744186061255"
     },
     "user_tz": 480
    },
    "id": "zVU4yQ9h8Gdp"
   },
   "outputs": [],
   "source": [
    "import torch\n",
    "from torch.utils.tensorboard import SummaryWriter\n",
    "import matplotlib.pyplot as plt\n",
    "import random\n",
    "import pickle\n",
    "import time\n",
    "import math\n",
    "from tqdm import trange\n",
    "\n",
    "\n",
    "def Sampler(model_fn, model_args, train_loader, val_loader, num_model, epoch, lr_lowbound=-5, lr_highbound=0):\n",
    "  '''\n",
    "  Use for hyperparameter tuning. Quickly sample learing rates\n",
    "  Inputs:\n",
    "    - model_fn: model function\n",
    "    - model_args: model arguments\n",
    "    - num_model: number of models for sampling\n",
    "\n",
    "  '''\n",
    "\n",
    "  for i in range(num_model):\n",
    "    model = model_fn(**model_args)\n",
    "    lr = 10 ** random.uniform(lr_lowbound, lr_highbound)\n",
    "\n",
    "    print(f'lr: {lr:.4e}', end=' ')\n",
    "    solver = Solver(model, train_loader, val_loader, fp16= False)\n",
    "    solver.train(epoch, lr)\n",
    "\n",
    "\n",
    "\n",
    "\n",
    "class Solver(object):\n",
    "  '''\n",
    "  Default/ Hard-coded Behavior:\n",
    "    Using NVDIA GPU, Cuda, Cudnn\n",
    "    optimizer = Adam\n",
    "    loss function = Cross Entropy Loss\n",
    "    print initial loss after the very first iteration as model sanity check\n",
    "\n",
    "  '''\n",
    "\n",
    "  def __init__(self, model, train_loader, eval_loader, fp16= True, random_seed=0):\n",
    "    '''\n",
    "    Inputs:\n",
    "      - fp16:               if True, both model and data are using torch.float16 to save GPU memory, otherwise using torch.float32.\n",
    "                            NOTE: when using fp16, Adam optimizer's eps is set to larger than default value to prevent overflow\n",
    "      - random_seed:        random seed that make output deterministic. See detail in fixrandomseed function\n",
    "      \n",
    "    '''\n",
    "    self.model = model\n",
    "    self.train_loader = train_loader\n",
    "    self.eval_loader = eval_loader\n",
    "\n",
    "    self.epoch_loss_history= []\n",
    "    self.averge_loss_history = []\n",
    "    self.train_acc_history = []\n",
    "    self.val_acc_history = []\n",
    "    self.ratios = []\n",
    "\n",
    "    torch.cuda.synchronize()\n",
    "    torch.backends.cudnn.benchmark = True\n",
    "    self._fixrandomseed(random_seed)\n",
    "\n",
    "    self.to_float_cuda = {\"dtype\": torch.float16 if fp16 else torch.float32, \"device\":\"cuda\"}\n",
    "    self.eps = 1e-5 if fp16 else 1e-8\n",
    "\n",
    "    self.model.to(**self.to_float_cuda) # model need to be moved before constructing optimizer\n",
    "    \n",
    "    self.optimizer = torch.optim.Adam(model.parameters(), lr=1e-3, eps=self.eps) \n",
    "    self.loss_fn = torch.nn.CrossEntropyLoss()\n",
    "  \n",
    "\n",
    "  def train(self, epoch, lr=1e-4 , print_every_iter=1000, check_every_epoch=1000, verbose=False, checkpoint_name= None, tf_board=False):\n",
    "    '''\n",
    "    Inputs:\n",
    "      - print_every_iter:   print loss *loss* and *accumilated time* every number of iters, verbose always need to be set to True\n",
    "      - check_every_epoch:  checkpoint for every number of epoch. See details behaviors in the private checkpoint function\n",
    "      - verbose:            print detail loss during training, and plot loss at checkpoint otherwise, only print in checkpoint\n",
    "      - checkpoint_name:    if not None, will save model using pickel at checkpoint\n",
    "    '''\n",
    "    self.epoch = epoch\n",
    "    self.lr = lr\n",
    "    self.check_every_epoch = check_every_epoch\n",
    "    self.verbose = verbose\n",
    "    self.checkpoint_name = checkpoint_name\n",
    "\n",
    "    if tf_board:\n",
    "      self.writer = SummaryWriter()\n",
    "\n",
    "    # can change lr when call train again\n",
    "    if self.optimizer.param_groups[0]['lr'] != lr:\n",
    "      for p in self.optimizer.param_groups:\n",
    "        p['lr'] = lr\n",
    "\n",
    "    num_batch = len(self.train_loader)\n",
    "    self.model.train()\n",
    "    for i in range(1, epoch+1):\n",
    "\n",
    "      total_loss = 0\n",
    "      iter_loss_history = []\n",
    "      start_time = time.time()\n",
    "      Y_pred_all = []\n",
    "      Y_tr_all = []\n",
    "\n",
    "      for j, data in enumerate(self.train_loader):\n",
    "        \n",
    "        Xtr, Ytr = data\n",
    "        Xtr, Ytr = Xtr.to(**self.to_float_cuda), Ytr.cuda()\n",
    "\n",
    "        # alternative of model.zero_grad(). This way is more efficient\n",
    "        for param in self.model.parameters():\n",
    "          param.grad = None\n",
    "        # self.model.zero_grad(set_to_none=True)\n",
    "        \n",
    "        y_pred = self.model(Xtr)\n",
    "        loss = self.loss_fn(y_pred,Ytr)\n",
    "\n",
    "        total_loss += loss.item()\n",
    "\n",
    "        loss.backward()\n",
    "        self.optimizer.step()\n",
    "\n",
    "        # print initial loss as sanity check\n",
    "        if verbose and i == 1 and j == 0 :\n",
    "          print(f'initialal loss: {loss:.5f}')\n",
    "\n",
    "        # print training loss per number of iterations\n",
    "        if verbose and j % print_every_iter == 0:\n",
    "          print(f\"Iteration {j}/{num_batch}, loss = {(total_loss / (j+1)):.5f}, took {(time.time() - start_time):.2f} seconds\")\n",
    "        \n",
    "        # Iter Book keeping\n",
    "        Y_pred_all.append(y_pred)\n",
    "        Y_tr_all.append(Ytr)\n",
    "        iter_loss_history.append(loss.item())\n",
    "\n",
    "\n",
    "\n",
    "      epoch_loss = total_loss / num_batch\n",
    "\n",
    "      if verbose:\n",
    "        print(f\"Epoch: {i}/{epoch}, loss = {epoch_loss:.5f}, took {time.time() - start_time:.2f} seconds\")\n",
    "\n",
    "      # Epoch Book keeping\n",
    "      self.epoch_loss_history.append(iter_loss_history)\n",
    "      self.averge_loss_history.append(epoch_loss)\n",
    "\n",
    "      if tf_board: \n",
    "        self.writer.add_scalar('Epoch loss', epoch_loss, i)\n",
    "\n",
    "      \n",
    "      if i % check_every_epoch == 0 or i == epoch:\n",
    "        # check train accuracy\n",
    "        Y_pred_all = torch.argmax(torch.cat(Y_pred_all),dim=1)\n",
    "        Y_tr_all = torch.cat(Y_tr_all)\n",
    "        train_accuracy = (Y_pred_all == Y_tr_all).float().mean()\n",
    "\n",
    "        # check val accuracy\n",
    "        val_accuracy = self._check_accuracy(self.eval_loader)\n",
    "\n",
    "        # check update ratio\n",
    "        ratio = self._check_update_ratio()\n",
    "\n",
    "        print(f'Epoch: {i}/{epoch}, Loss: {epoch_loss:.4f} train acc: {train_accuracy:.4f}, val acc: {val_accuracy:.4f}, update ratio: {ratio:.2e}')\n",
    "\n",
    "        # Checkpoint Book keeping\n",
    "        self.train_acc_history.append(train_accuracy)\n",
    "        self.val_acc_history.append(val_accuracy)\n",
    "        self.ratios.append(ratio)\n",
    "\n",
    "        if checkpoint_name is not None:\n",
    "          self._save_checkpoint(epoch=i)\n",
    "\n",
    "        if tf_board:\n",
    "          self.writer.add_scalar('train_accuracy', train_accuracy, i)\n",
    "          self.writer.add_scalar('val_accuracy', val_accuracy, i)\n",
    "  \n",
    "    if verbose:\n",
    "      self.plot()\n",
    "\n",
    "  @torch.no_grad()\n",
    "  def _check_update_ratio(self):\n",
    "    '''\n",
    "    Check the ratio between weights and graidents.\n",
    "    Ideal ratio is around 1e-3\n",
    "    '''\n",
    "    num_param = 0\n",
    "    param_ratio = 0\n",
    "    update_ratio = 0\n",
    "    for param in self.model.parameters():\n",
    "      num_param += 1\n",
    "      param_ratio += torch.norm(param)\n",
    "      update_ratio += torch.norm(param.grad)\n",
    "\n",
    "    param_ratio /= num_param\n",
    "    update_ratio = update_ratio/ num_param * self.lr\n",
    "    return (update_ratio / param_ratio).item()\n",
    "\n",
    "  @torch.no_grad()\n",
    "  def _check_accuracy(self, data_loader, num_sample=None):\n",
    "    '''\n",
    "    if num_sample is provided, will sub sample data loader to the designated amount of samples and double the batch size for efficency.\n",
    "    (Can double the batch size during evaluation since no grads are needed)\n",
    "\n",
    "    Inputs:\n",
    "      - data_loader:    Pytorch dataloader object\n",
    "      - num_sample:     number of samples that are *randomly* picked in the dataloader\n",
    "    Outputs:\n",
    "      - acc:            float, accuracy of the dataloader\n",
    "    \n",
    "    TODO:\n",
    "    - Want randomly pick data to calculate accuracy? is making it more deterministic better?\n",
    "    '''\n",
    "    self.model.eval()\n",
    "\n",
    "    if num_sample is not None:\n",
    "      sub_dataset = torch.utils.data.Subset(data_loader.dataset, torch.randint(high=len(data_loader.dataset),size=(num_sample,)))\n",
    "      sub_data_loader = torch.utils.data.DataLoader(sub_dataset,data_loader.batch_size*2, num_workers=2,pin_memory=True,)\n",
    "    else:\n",
    "      sub_data_loader = data_loader\n",
    "\n",
    "    Ypred = []\n",
    "    Yall = []\n",
    "    for data in sub_data_loader:\n",
    "      X, Y = data\n",
    "      X, Y = X.to(**self.to_float_cuda), Y.cuda()\n",
    "\n",
    "      scores = self.model(X)\n",
    "      Ypred.append(torch.argmax(scores,dim=1))\n",
    "      Yall.append(Y)\n",
    "    \n",
    "    Ypred = torch.cat(Ypred)\n",
    "    Yall = torch.cat(Yall)\n",
    "    acc = (Ypred == Yall).float().mean()\n",
    "\n",
    "    self.model.train()\n",
    "    return acc.item()\n",
    "\n",
    "  def _save_checkpoint(self, epoch):\n",
    "\n",
    "    checkpoint = {\n",
    "      'model': self.model,\n",
    "      'epoch': self.epoch,\n",
    "      'lr': self.lr,\n",
    "      'loss history': self.epoch_loss_history,\n",
    "      'train_acc_history': self.train_acc_history,\n",
    "      'val_acc_history': self.val_acc_history,\n",
    "      'scales' : self.scales\n",
    "    }\n",
    "    filename = f'{self.checkpoint_name}_epoch_{epoch}.pkl'\n",
    "\n",
    "    if self.verbose:\n",
    "      print(f'Saving checkpoint to \"{filename}\"')\n",
    "\n",
    "    with open(filename, 'wb') as f:\n",
    "      pickle.dump(checkpoint, f)\n",
    "    \n",
    "\n",
    "  def plot(self):\n",
    "    plt.figure(figsize=(15,5))\n",
    "    plt.subplot(121)\n",
    "    plt.plot(self.epoch_loss_history,'oc')\n",
    "    plt.plot(self.averge_loss_history,'-b')\n",
    "    plt.xlabel('Epoch')\n",
    "    plt.ylabel('Loss')\n",
    "\n",
    "    plt.subplot(122)\n",
    "    plt.plot(self.train_acc_history,'-o', label='train')\n",
    "    plt.plot(self.val_acc_history,'-o', label='validation')\n",
    "    plt.xlabel(f'Every {self.check_every_epoch} Epoch')\n",
    "    plt.ylabel('Accuracy')\n",
    "    plt.legend()\n",
    "    plt.show()\n",
    "\n",
    "  def _fixrandomseed(self, seed=0):\n",
    "    '''\n",
    "    Fix random seed to get deterministic outputs\n",
    "    '''\n",
    "    torch.manual_seed(seed)\n",
    "    torch.cuda.manual_seed(seed)\n",
    "    # random.seed(seed)"
   ]
  },
  {
   "cell_type": "markdown",
   "metadata": {
    "id": "vGvI1FdvsLBJ"
   },
   "source": [
    "# New Section"
   ]
  },
  {
   "cell_type": "code",
   "execution_count": 10,
   "metadata": {
    "colab": {
     "base_uri": "https://localhost:8080/"
    },
    "executionInfo": {
     "elapsed": 12944,
     "status": "ok",
     "timestamp": 1609383664102,
     "user": {
      "displayName": "Fred Chan",
      "photoUrl": "",
      "userId": "10478538744186061255"
     },
     "user_tz": 480
    },
    "id": "64MMOkDdadDH",
    "outputId": "54867eff-2236-4f1d-b818-3909bdc03b80"
   },
   "outputs": [
    {
     "name": "stdout",
     "output_type": "stream",
     "text": [
      "Files already downloaded and verified\n",
      "Files already downloaded and verified\n"
     ]
    }
   ],
   "source": [
    "transformer = transform.Compose([\n",
    "                                transform.Resize(256),\n",
    "                                transform.CenterCrop(224),\n",
    "                                transform.ToTensor(),\n",
    "                                transform.Normalize((0.5,0.5,0.5),(0.5,0.5,0.5))\n",
    "])\n",
    "train_dataset = torchvision.datasets.CIFAR10(\"./data\",train=True, transform=transformer,download=True)\n",
    "trainloader = torch.utils.data.DataLoader(train_dataset,batch_size=64,shuffle=True,num_workers=2)\n",
    "\n",
    "dev_dataset = torchvision.datasets.CIFAR10(\"./data\",train=False, transform=transformer,download=True)\n",
    "devloader = torch.utils.data.DataLoader(dev_dataset,batch_size=64,shuffle=True,num_workers=2)"
   ]
  },
  {
   "cell_type": "code",
   "execution_count": 11,
   "metadata": {
    "executionInfo": {
     "elapsed": 12944,
     "status": "ok",
     "timestamp": 1609383664103,
     "user": {
      "displayName": "Fred Chan",
      "photoUrl": "",
      "userId": "10478538744186061255"
     },
     "user_tz": 480
    },
    "id": "4-9IQ9XyT2NF"
   },
   "outputs": [],
   "source": [
    "small_train_data = torch.utils.data.Subset(train_dataset, torch.arange(0, 1000))\n",
    "small_train_loader = torch.utils.data.DataLoader(small_train_data,batch_size=48, num_workers=2,pin_memory=True)\n",
    "\n",
    "small_dev_data = torch.utils.data.Subset(dev_dataset, torch.arange(0, 100))\n",
    "small_dev_loader = torch.utils.data.DataLoader(small_dev_data,batch_size=40, num_workers=2,pin_memory=True)"
   ]
  },
  {
   "cell_type": "code",
   "execution_count": 12,
   "metadata": {
    "executionInfo": {
     "elapsed": 23282,
     "status": "ok",
     "timestamp": 1609383674442,
     "user": {
      "displayName": "Fred Chan",
      "photoUrl": "",
      "userId": "10478538744186061255"
     },
     "user_tz": 480
    },
    "id": "V_67f1kmqO-P"
   },
   "outputs": [],
   "source": [
    "model = efficientNet(fi=0, num_classes=10)\n",
    "solver = Solver(model, small_train_loader, small_dev_loader)"
   ]
  },
  {
   "cell_type": "code",
   "execution_count": 13,
   "metadata": {
    "colab": {
     "base_uri": "https://localhost:8080/"
    },
    "executionInfo": {
     "elapsed": 67089,
     "status": "ok",
     "timestamp": 1609383718252,
     "user": {
      "displayName": "Fred Chan",
      "photoUrl": "",
      "userId": "10478538744186061255"
     },
     "user_tz": 480
    },
    "id": "_cYswmUhb1aJ",
    "outputId": "faf2fe99-1e32-4e85-de6b-daf1fbb96ff3"
   },
   "outputs": [
    {
     "name": "stdout",
     "output_type": "stream",
     "text": [
      "Epoch: 1/5, Loss: 2.3738 train acc: 0.1290, val acc: 0.1600, update ratio: 4.89e-06\n",
      "Epoch: 2/5, Loss: 2.0873 train acc: 0.1740, val acc: 0.0700, update ratio: 5.30e-06\n",
      "Epoch: 3/5, Loss: 1.9111 train acc: 0.2420, val acc: 0.1800, update ratio: 5.42e-06\n",
      "Epoch: 4/5, Loss: 1.7450 train acc: 0.2970, val acc: 0.2400, update ratio: 6.38e-06\n",
      "Epoch: 5/5, Loss: 1.5926 train acc: 0.3590, val acc: 0.3800, update ratio: 1.24e-05\n"
     ]
    }
   ],
   "source": [
    "solver.train(lr= 1e-4, epoch= 5, print_every_iter= 5, check_every_epoch= 1, verbose=False, checkpoint_name=None)"
   ]
  },
  {
   "cell_type": "code",
   "execution_count": 14,
   "metadata": {
    "colab": {
     "base_uri": "https://localhost:8080/",
     "height": 334
    },
    "executionInfo": {
     "elapsed": 67380,
     "status": "ok",
     "timestamp": 1609383718547,
     "user": {
      "displayName": "Fred Chan",
      "photoUrl": "",
      "userId": "10478538744186061255"
     },
     "user_tz": 480
    },
    "id": "Wvsz5oV2cjn8",
    "outputId": "49f1e92d-6ec0-4aed-f8d3-3bef9337184d"
   },
   "outputs": [
    {
     "data": {
      "image/png": "[encoded data removed]",
      "text/plain": [
       "<Figure size 1080x360 with 2 Axes>"
      ]
     },
     "metadata": {
      "needs_background": "light",
      "tags": []
     },
     "output_type": "display_data"
    }
   ],
   "source": [
    "solver.plot()"
   ]
  },
  {
   "cell_type": "code",
   "execution_count": 15,
   "metadata": {
    "colab": {
     "base_uri": "https://localhost:8080/"
    },
    "executionInfo": {
     "elapsed": 67377,
     "status": "ok",
     "timestamp": 1609383718547,
     "user": {
      "displayName": "Fred Chan",
      "photoUrl": "",
      "userId": "10478538744186061255"
     },
     "user_tz": 480
    },
    "id": "Ybw-Qb8mmBAa",
    "outputId": "4294e01f-f017-4ff9-dad7-698b18576734"
   },
   "outputs": [
    {
     "data": {
      "text/plain": [
       "0.0001"
      ]
     },
     "execution_count": 15,
     "metadata": {
      "tags": []
     },
     "output_type": "execute_result"
    }
   ],
   "source": [
    "solver.optimizer.param_groups[0]['lr']"
   ]
  },
  {
   "cell_type": "code",
   "execution_count": 16,
   "metadata": {
    "colab": {
     "base_uri": "https://localhost:8080/"
    },
    "executionInfo": {
     "elapsed": 456828,
     "status": "ok",
     "timestamp": 1609384108001,
     "user": {
      "displayName": "Fred Chan",
      "photoUrl": "",
      "userId": "10478538744186061255"
     },
     "user_tz": 480
    },
    "id": "B7eK9IkAkSrf",
    "outputId": "96644ba3-39dd-4642-dc31-f3111b4bef3e"
   },
   "outputs": [
    {
     "name": "stdout",
     "output_type": "stream",
     "text": [
      "lr: 9.8505e-05 Epoch: 2/2, Loss: 2.2379 train acc: 0.1620, val acc: 0.0700, update ratio: 1.66e-05\n",
      "lr: 1.4717e-01 Epoch: 2/2, Loss: 2.5233 train acc: 0.0880, val acc: 0.1000, update ratio: 2.56e-05\n",
      "lr: 3.6561e-04 Epoch: 2/2, Loss: 2.1532 train acc: 0.1900, val acc: 0.1300, update ratio: 6.10e-05\n",
      "lr: 5.8659e-04 Epoch: 2/2, Loss: 2.1662 train acc: 0.1930, val acc: 0.1300, update ratio: 5.97e-05\n",
      "lr: 4.4691e-03 Epoch: 2/2, Loss: 2.2561 train acc: 0.1450, val acc: 0.0900, update ratio: 3.82e-05\n",
      "lr: 2.8343e-02 Epoch: 2/2, Loss: 2.6630 train acc: 0.0960, val acc: 0.0900, update ratio: 4.57e-05\n",
      "lr: 1.6566e+00 Epoch: 2/2, Loss: 35.9797 train acc: 0.0870, val acc: 0.0800, update ratio: 2.86e-04\n",
      "lr: 3.6865e-04 Epoch: 2/2, Loss: 2.1770 train acc: 0.1820, val acc: 0.1300, update ratio: 5.85e-05\n",
      "lr: 4.9103e-03 Epoch: 2/2, Loss: 2.2244 train acc: 0.1830, val acc: 0.1100, update ratio: 6.97e-05\n",
      "lr: 1.7554e-01 Epoch: 2/2, Loss: 2.4977 train acc: 0.0940, val acc: 0.1300, update ratio: 7.40e-06\n",
      "lr: 4.7630e-03 Epoch: 2/2, Loss: 2.2978 train acc: 0.1520, val acc: 0.1700, update ratio: 1.81e-05\n",
      "lr: 8.7243e-01 Epoch: 2/2, Loss: 3.7430 train acc: 0.1130, val acc: 0.1500, update ratio: 1.23e-05\n",
      "lr: 2.8379e-05 Epoch: 2/2, Loss: 2.2797 train acc: 0.1110, val acc: 0.0700, update ratio: 4.17e-06\n",
      "lr: 4.6996e-03 Epoch: 2/2, Loss: 2.2060 train acc: 0.1860, val acc: 0.0700, update ratio: 1.99e-05\n",
      "lr: 6.8850e-03 Epoch: 2/2, Loss: 2.3711 train acc: 0.1430, val acc: 0.1300, update ratio: 2.35e-05\n",
      "lr: 1.6347e-04 Epoch: 2/2, Loss: 2.2319 train acc: 0.1670, val acc: 0.1300, update ratio: 2.86e-05\n",
      "lr: 5.9355e-01 Epoch: 2/2, Loss: 7.1960 train acc: 0.0920, val acc: 0.0800, update ratio: 5.69e-05\n",
      "lr: 1.3039e-02 Epoch: 2/2, Loss: 2.5782 train acc: 0.1030, val acc: 0.1000, update ratio: 3.41e-05\n",
      "lr: 2.4201e-02 Epoch: 2/2, Loss: 2.8945 train acc: 0.0900, val acc: 0.0900, update ratio: 4.29e-04\n",
      "lr: 9.1235e-05 Epoch: 2/2, Loss: 2.2531 train acc: 0.1610, val acc: 0.1300, update ratio: 1.42e-05\n"
     ]
    }
   ],
   "source": [
    "fn = efficientNet\n",
    "args = {'fi':0, 'num_classes':10}\n",
    "Sampler(fn, args, small_train_loader, small_dev_loader, num_model=20, epoch=2, lr_lowbound=-5, lr_highbound=0.5)"
   ]
  },
  {
   "cell_type": "code",
   "execution_count": 17,
   "metadata": {
    "colab": {
     "base_uri": "https://localhost:8080/",
     "height": 0
    },
    "executionInfo": {
     "elapsed": 457383,
     "status": "ok",
     "timestamp": 1609384108560,
     "user": {
      "displayName": "Fred Chan",
      "photoUrl": "",
      "userId": "10478538744186061255"
     },
     "user_tz": 480
    },
    "id": "MQaDEILIIebT",
    "outputId": "40b5fc8b-c7e0-412c-a8ba-11543794fde3"
   },
   "outputs": [
    {
     "data": {
      "image/png": "[encoded data removed]",
      "text/plain": [
       "<Figure size 1440x360 with 3 Axes>"
      ]
     },
     "metadata": {
      "needs_background": "light",
      "tags": []
     },
     "output_type": "display_data"
    }
   ],
   "source": [
    "plt.figure(figsize=(20,5))\n",
    "plt.subplot(131)\n",
    "plt.plot(solver.epoch_loss_history,'oc')\n",
    "plt.plot(solver.averge_loss_history,'-b')\n",
    "plt.xlabel('Epoch')\n",
    "plt.ylabel('Loss')\n",
    "\n",
    "plt.subplot(132)\n",
    "plt.plot(solver.train_acc_history,'-o', label='train')\n",
    "plt.plot(solver.val_acc_history,'-o', label='validation')\n",
    "plt.xlabel('Epoch')\n",
    "plt.ylabel('Accuracy')\n",
    "plt.legend()\n",
    "\n",
    "plt.subplot(133)\n",
    "plt.plot(solver.ratios,'-o')\n",
    "plt.xlabel('Epoch')\n",
    "plt.ylabel('Scale Ratio')\n",
    "plt.show()"
   ]
  },
  {
   "cell_type": "code",
   "execution_count": 18,
   "metadata": {
    "executionInfo": {
     "elapsed": 457382,
     "status": "ok",
     "timestamp": 1609384108561,
     "user": {
      "displayName": "Fred Chan",
      "photoUrl": "",
      "userId": "10478538744186061255"
     },
     "user_tz": 480
    },
    "id": "csHa694LlgA2"
   },
   "outputs": [],
   "source": [
    "optim = torch.optim.Adam(model.parameters(), lr=1e-3)"
   ]
  },
  {
   "cell_type": "code",
   "execution_count": 18,
   "metadata": {
    "executionInfo": {
     "elapsed": 457381,
     "status": "ok",
     "timestamp": 1609384108561,
     "user": {
      "displayName": "Fred Chan",
      "photoUrl": "",
      "userId": "10478538744186061255"
     },
     "user_tz": 480
    },
    "id": "z8KLhaKsLIYR"
   },
   "outputs": [],
   "source": []
  }
 ],
 "metadata": {
  "accelerator": "GPU",
  "colab": {
   "authorship_tag": "ABX9TyM02LdHyC8GLhcd2pflxZMr",
   "collapsed_sections": [],
   "name": "EfficientNet.ipynb",
   "provenance": [
    {
     "file_id": "https://github.com/fred2167/Personal-Project/blob/master/EfficientNet.ipynb",
     "timestamp": 1603085585257
    }
   ]
  },
  "kernelspec": {
   "display_name": "Python 3",
   "language": "python",
   "name": "python3"
  },
  "language_info": {
   "codemirror_mode": {
    "name": "ipython",
    "version": 3
   },
   "file_extension": ".py",
   "mimetype": "text/x-python",
   "name": "python",
   "nbconvert_exporter": "python",
   "pygments_lexer": "ipython3",
   "version": "3.8.5"
  },
  "widgets": {
   "application/vnd.jupyter.widget-state+json": {
    "19beb12cb5a546ca88c689d985af56bc": {
     "model_module": "@jupyter-widgets/controls",
     "model_name": "ProgressStyleModel",
     "state": {
      "_model_module": "@jupyter-widgets/controls",
      "_model_module_version": "1.5.0",
      "_model_name": "ProgressStyleModel",
      "_view_count": null,
      "_view_module": "@jupyter-widgets/base",
      "_view_module_version": "1.2.0",
      "_view_name": "StyleView",
      "bar_color": null,
      "description_width": "initial"
     }
    },
    "2913b44de53c43fb93b5effba850301f": {
     "model_module": "@jupyter-widgets/base",
     "model_name": "LayoutModel",
     "state": {
      "_model_module": "@jupyter-widgets/base",
      "_model_module_version": "1.2.0",
      "_model_name": "LayoutModel",
      "_view_count": null,
      "_view_module": "@jupyter-widgets/base",
      "_view_module_version": "1.2.0",
      "_view_name": "LayoutView",
      "align_content": null,
      "align_items": null,
      "align_self": null,
      "border": null,
      "bottom": null,
      "display": null,
      "flex": null,
      "flex_flow": null,
      "grid_area": null,
      "grid_auto_columns": null,
      "grid_auto_flow": null,
      "grid_auto_rows": null,
      "grid_column": null,
      "grid_gap": null,
      "grid_row": null,
      "grid_template_areas": null,
      "grid_template_columns": null,
      "grid_template_rows": null,
      "height": null,
      "justify_content": null,
      "justify_items": null,
      "left": null,
      "margin": null,
      "max_height": null,
      "max_width": null,
      "min_height": null,
      "min_width": null,
      "object_fit": null,
      "object_position": null,
      "order": null,
      "overflow": null,
      "overflow_x": null,
      "overflow_y": null,
      "padding": null,
      "right": null,
      "top": null,
      "visibility": null,
      "width": null
     }
    },
    "43022c33285d4d489f0347e8e884c2f7": {
     "model_module": "@jupyter-widgets/base",
     "model_name": "LayoutModel",
     "state": {
      "_model_module": "@jupyter-widgets/base",
      "_model_module_version": "1.2.0",
      "_model_name": "LayoutModel",
      "_view_count": null,
      "_view_module": "@jupyter-widgets/base",
      "_view_module_version": "1.2.0",
      "_view_name": "LayoutView",
      "align_content": null,
      "align_items": null,
      "align_self": null,
      "border": null,
      "bottom": null,
      "display": null,
      "flex": null,
      "flex_flow": null,
      "grid_area": null,
      "grid_auto_columns": null,
      "grid_auto_flow": null,
      "grid_auto_rows": null,
      "grid_column": null,
      "grid_gap": null,
      "grid_row": null,
      "grid_template_areas": null,
      "grid_template_columns": null,
      "grid_template_rows": null,
      "height": null,
      "justify_content": null,
      "justify_items": null,
      "left": null,
      "margin": null,
      "max_height": null,
      "max_width": null,
      "min_height": null,
      "min_width": null,
      "object_fit": null,
      "object_position": null,
      "order": null,
      "overflow": null,
      "overflow_x": null,
      "overflow_y": null,
      "padding": null,
      "right": null,
      "top": null,
      "visibility": null,
      "width": null
     }
    },
    "9358c8bfbb554acf8280c0983cd5e6bb": {
     "model_module": "@jupyter-widgets/controls",
     "model_name": "HBoxModel",
     "state": {
      "_dom_classes": [],
      "_model_module": "@jupyter-widgets/controls",
      "_model_module_version": "1.5.0",
      "_model_name": "HBoxModel",
      "_view_count": null,
      "_view_module": "@jupyter-widgets/controls",
      "_view_module_version": "1.5.0",
      "_view_name": "HBoxView",
      "box_style": "",
      "children": [
       "IPY_MODEL_ee88fa9ee77a438ebbaa2f1fd677b41c",
       "IPY_MODEL_ba023149fc26400a86b2a71057d96bda"
      ],
      "layout": "IPY_MODEL_9de33e3d950d46528d8cdfb6f4293675"
     }
    },
    "9de33e3d950d46528d8cdfb6f4293675": {
     "model_module": "@jupyter-widgets/base",
     "model_name": "LayoutModel",
     "state": {
      "_model_module": "@jupyter-widgets/base",
      "_model_module_version": "1.2.0",
      "_model_name": "LayoutModel",
      "_view_count": null,
      "_view_module": "@jupyter-widgets/base",
      "_view_module_version": "1.2.0",
      "_view_name": "LayoutView",
      "align_content": null,
      "align_items": null,
      "align_self": null,
      "border": null,
      "bottom": null,
      "display": null,
      "flex": null,
      "flex_flow": null,
      "grid_area": null,
      "grid_auto_columns": null,
      "grid_auto_flow": null,
      "grid_auto_rows": null,
      "grid_column": null,
      "grid_gap": null,
      "grid_row": null,
      "grid_template_areas": null,
      "grid_template_columns": null,
      "grid_template_rows": null,
      "height": null,
      "justify_content": null,
      "justify_items": null,
      "left": null,
      "margin": null,
      "max_height": null,
      "max_width": null,
      "min_height": null,
      "min_width": null,
      "object_fit": null,
      "object_position": null,
      "order": null,
      "overflow": null,
      "overflow_x": null,
      "overflow_y": null,
      "padding": null,
      "right": null,
      "top": null,
      "visibility": null,
      "width": null
     }
    },
    "b973abf20aeb41d2804944acf0451ae2": {
     "model_module": "@jupyter-widgets/controls",
     "model_name": "DescriptionStyleModel",
     "state": {
      "_model_module": "@jupyter-widgets/controls",
      "_model_module_version": "1.5.0",
      "_model_name": "DescriptionStyleModel",
      "_view_count": null,
      "_view_module": "@jupyter-widgets/base",
      "_view_module_version": "1.2.0",
      "_view_name": "StyleView",
      "description_width": ""
     }
    },
    "ba023149fc26400a86b2a71057d96bda": {
     "model_module": "@jupyter-widgets/controls",
     "model_name": "HTMLModel",
     "state": {
      "_dom_classes": [],
      "_model_module": "@jupyter-widgets/controls",
      "_model_module_version": "1.5.0",
      "_model_name": "HTMLModel",
      "_view_count": null,
      "_view_module": "@jupyter-widgets/controls",
      "_view_module_version": "1.5.0",
      "_view_name": "HTMLView",
      "description": "",
      "description_tooltip": null,
      "layout": "IPY_MODEL_43022c33285d4d489f0347e8e884c2f7",
      "placeholder": "​",
      "style": "IPY_MODEL_b973abf20aeb41d2804944acf0451ae2",
      "value": " 170500096/? [00:06&lt;00:00, 25743784.78it/s]"
     }
    },
    "ee88fa9ee77a438ebbaa2f1fd677b41c": {
     "model_module": "@jupyter-widgets/controls",
     "model_name": "FloatProgressModel",
     "state": {
      "_dom_classes": [],
      "_model_module": "@jupyter-widgets/controls",
      "_model_module_version": "1.5.0",
      "_model_name": "FloatProgressModel",
      "_view_count": null,
      "_view_module": "@jupyter-widgets/controls",
      "_view_module_version": "1.5.0",
      "_view_name": "ProgressView",
      "bar_style": "success",
      "description": "",
      "description_tooltip": null,
      "layout": "IPY_MODEL_2913b44de53c43fb93b5effba850301f",
      "max": 1,
      "min": 0,
      "orientation": "horizontal",
      "style": "IPY_MODEL_19beb12cb5a546ca88c689d985af56bc",
      "value": 1
     }
    }
   }
  }
 },
 "nbformat": 4,
 "nbformat_minor": 1
}
