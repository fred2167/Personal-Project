{
 "cells": [
  {
   "cell_type": "code",
   "execution_count": 18,
   "id": "cf74a7b9",
   "metadata": {},
   "outputs": [],
   "source": [
    "import os\n",
    "import sys\n",
    "import pytorch_lightning as pl\n",
    "import torch\n",
    "import torchvision "
   ]
  },
  {
   "cell_type": "code",
   "execution_count": 6,
   "id": "a7cd47c2",
   "metadata": {},
   "outputs": [],
   "source": [
    "sys.path.insert(0, os.path.abspath('/home/fred/Python/Personal-Project/'))"
   ]
  },
  {
   "cell_type": "code",
   "execution_count": 7,
   "id": "51f35e4b",
   "metadata": {},
   "outputs": [],
   "source": [
    "import EfficientNet.model as model"
   ]
  },
  {
   "cell_type": "code",
   "execution_count": 19,
   "id": "bfe804e8",
   "metadata": {},
   "outputs": [],
   "source": [
    "class Lightning(pl.LightningModule):\n",
    "    \n",
    "    def __init__(self):\n",
    "        super().__init__()\n",
    "        self.model = torchvision.models.resnet18()\n",
    "        \n",
    "    \n",
    "    def forward(self,x):\n",
    "        return self.model(x)\n",
    "    \n",
    "    def confiure_optimizer(self):\n",
    "        return torch.optim.Adam(self.parmeters(), lr = 1e-3)\n",
    "    \n",
    "    def training_step(self, train_batch, batch_idx):\n",
    "        Xtr, Ytr = train_batch\n",
    "        \n",
    "        y_hat = self.model(Xtr)\n",
    "        loss = torch.nn.CrossEntropyLoss()(y_hat, Ytr)\n",
    "        self.log('train_loss', loss)\n",
    "        return loss\n",
    "    \n",
    "    def validation_step(self, val_batch, batch_idx):\n",
    "        Xval, Yval = val_batch\n",
    "        \n",
    "        y_hat = self.model(Xval)\n",
    "        loss = torch.nn.CrossEntropyLoss()(y_hat, Yval)\n",
    "        self.log('val_loss', loss)\n",
    "        \n",
    "    def backward(self, loss):\n",
    "        loss.backward()"
   ]
  },
  {
   "cell_type": "code",
   "execution_count": 20,
   "id": "3f5aaf5a",
   "metadata": {},
   "outputs": [
    {
     "name": "stderr",
     "output_type": "stream",
     "text": [
      "GPU available: False, used: False\n",
      "TPU available: False, using: 0 TPU cores\n"
     ]
    }
   ],
   "source": [
    "model = Lightning()\n",
    "trainer = pl.Trainer()\n"
   ]
  },
  {
   "cell_type": "code",
   "execution_count": null,
   "id": "dc427cd5",
   "metadata": {},
   "outputs": [],
   "source": []
  }
 ],
 "metadata": {
  "kernelspec": {
   "display_name": "Python 3",
   "language": "python",
   "name": "python3"
  },
  "language_info": {
   "codemirror_mode": {
    "name": "ipython",
    "version": 3
   },
   "file_extension": ".py",
   "mimetype": "text/x-python",
   "name": "python",
   "nbconvert_exporter": "python",
   "pygments_lexer": "ipython3",
   "version": "3.8.8"
  }
 },
 "nbformat": 4,
 "nbformat_minor": 5
}
