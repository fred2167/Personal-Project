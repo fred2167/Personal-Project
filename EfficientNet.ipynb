{
  "nbformat": 4,
  "nbformat_minor": 0,
  "metadata": {
    "colab": {
      "name": "EfficientNet.ipynb",
      "provenance": [],
      "collapsed_sections": [],
      "authorship_tag": "ABX9TyPYxufpomro3olBSws575vu",
      "include_colab_link": true
    },
    "kernelspec": {
      "name": "python3",
      "display_name": "Python 3"
    },
    "widgets": {
      "application/vnd.jupyter.widget-state+json": {
        "9ae4dbad3a9c4a26900a45f4955ff6b7": {
          "model_module": "@jupyter-widgets/controls",
          "model_name": "HBoxModel",
          "state": {
            "_view_name": "HBoxView",
            "_dom_classes": [],
            "_model_name": "HBoxModel",
            "_view_module": "@jupyter-widgets/controls",
            "_model_module_version": "1.5.0",
            "_view_count": null,
            "_view_module_version": "1.5.0",
            "box_style": "",
            "layout": "IPY_MODEL_4944812291b640bf9266aa9b1b28e419",
            "_model_module": "@jupyter-widgets/controls",
            "children": [
              "IPY_MODEL_c2f02246b2c94264a3758807ce16f903",
              "IPY_MODEL_78a75aef6e624b7ea4f0eafcaba18bdb"
            ]
          }
        },
        "4944812291b640bf9266aa9b1b28e419": {
          "model_module": "@jupyter-widgets/base",
          "model_name": "LayoutModel",
          "state": {
            "_view_name": "LayoutView",
            "grid_template_rows": null,
            "right": null,
            "justify_content": null,
            "_view_module": "@jupyter-widgets/base",
            "overflow": null,
            "_model_module_version": "1.2.0",
            "_view_count": null,
            "flex_flow": null,
            "width": null,
            "min_width": null,
            "border": null,
            "align_items": null,
            "bottom": null,
            "_model_module": "@jupyter-widgets/base",
            "top": null,
            "grid_column": null,
            "overflow_y": null,
            "overflow_x": null,
            "grid_auto_flow": null,
            "grid_area": null,
            "grid_template_columns": null,
            "flex": null,
            "_model_name": "LayoutModel",
            "justify_items": null,
            "grid_row": null,
            "max_height": null,
            "align_content": null,
            "visibility": null,
            "align_self": null,
            "height": null,
            "min_height": null,
            "padding": null,
            "grid_auto_rows": null,
            "grid_gap": null,
            "max_width": null,
            "order": null,
            "_view_module_version": "1.2.0",
            "grid_template_areas": null,
            "object_position": null,
            "object_fit": null,
            "grid_auto_columns": null,
            "margin": null,
            "display": null,
            "left": null
          }
        },
        "c2f02246b2c94264a3758807ce16f903": {
          "model_module": "@jupyter-widgets/controls",
          "model_name": "FloatProgressModel",
          "state": {
            "_view_name": "ProgressView",
            "style": "IPY_MODEL_5cc84fab8fb14f16b6976e30dc0a4dbb",
            "_dom_classes": [],
            "description": "",
            "_model_name": "FloatProgressModel",
            "bar_style": "info",
            "max": 1,
            "_view_module": "@jupyter-widgets/controls",
            "_model_module_version": "1.5.0",
            "value": 1,
            "_view_count": null,
            "_view_module_version": "1.5.0",
            "orientation": "horizontal",
            "min": 0,
            "description_tooltip": null,
            "_model_module": "@jupyter-widgets/controls",
            "layout": "IPY_MODEL_bff9977165c64894892741e84ec9e7b8"
          }
        },
        "78a75aef6e624b7ea4f0eafcaba18bdb": {
          "model_module": "@jupyter-widgets/controls",
          "model_name": "HTMLModel",
          "state": {
            "_view_name": "HTMLView",
            "style": "IPY_MODEL_b6716ddd0c6d4ad28ded5f3d7a986401",
            "_dom_classes": [],
            "description": "",
            "_model_name": "HTMLModel",
            "placeholder": "​",
            "_view_module": "@jupyter-widgets/controls",
            "_model_module_version": "1.5.0",
            "value": " 170500096/? [00:20&lt;00:00, 70660265.81it/s]",
            "_view_count": null,
            "_view_module_version": "1.5.0",
            "description_tooltip": null,
            "_model_module": "@jupyter-widgets/controls",
            "layout": "IPY_MODEL_0967d8aad0ab448d980f83ada201d930"
          }
        },
        "5cc84fab8fb14f16b6976e30dc0a4dbb": {
          "model_module": "@jupyter-widgets/controls",
          "model_name": "ProgressStyleModel",
          "state": {
            "_view_name": "StyleView",
            "_model_name": "ProgressStyleModel",
            "description_width": "initial",
            "_view_module": "@jupyter-widgets/base",
            "_model_module_version": "1.5.0",
            "_view_count": null,
            "_view_module_version": "1.2.0",
            "bar_color": null,
            "_model_module": "@jupyter-widgets/controls"
          }
        },
        "bff9977165c64894892741e84ec9e7b8": {
          "model_module": "@jupyter-widgets/base",
          "model_name": "LayoutModel",
          "state": {
            "_view_name": "LayoutView",
            "grid_template_rows": null,
            "right": null,
            "justify_content": null,
            "_view_module": "@jupyter-widgets/base",
            "overflow": null,
            "_model_module_version": "1.2.0",
            "_view_count": null,
            "flex_flow": null,
            "width": null,
            "min_width": null,
            "border": null,
            "align_items": null,
            "bottom": null,
            "_model_module": "@jupyter-widgets/base",
            "top": null,
            "grid_column": null,
            "overflow_y": null,
            "overflow_x": null,
            "grid_auto_flow": null,
            "grid_area": null,
            "grid_template_columns": null,
            "flex": null,
            "_model_name": "LayoutModel",
            "justify_items": null,
            "grid_row": null,
            "max_height": null,
            "align_content": null,
            "visibility": null,
            "align_self": null,
            "height": null,
            "min_height": null,
            "padding": null,
            "grid_auto_rows": null,
            "grid_gap": null,
            "max_width": null,
            "order": null,
            "_view_module_version": "1.2.0",
            "grid_template_areas": null,
            "object_position": null,
            "object_fit": null,
            "grid_auto_columns": null,
            "margin": null,
            "display": null,
            "left": null
          }
        },
        "b6716ddd0c6d4ad28ded5f3d7a986401": {
          "model_module": "@jupyter-widgets/controls",
          "model_name": "DescriptionStyleModel",
          "state": {
            "_view_name": "StyleView",
            "_model_name": "DescriptionStyleModel",
            "description_width": "",
            "_view_module": "@jupyter-widgets/base",
            "_model_module_version": "1.5.0",
            "_view_count": null,
            "_view_module_version": "1.2.0",
            "_model_module": "@jupyter-widgets/controls"
          }
        },
        "0967d8aad0ab448d980f83ada201d930": {
          "model_module": "@jupyter-widgets/base",
          "model_name": "LayoutModel",
          "state": {
            "_view_name": "LayoutView",
            "grid_template_rows": null,
            "right": null,
            "justify_content": null,
            "_view_module": "@jupyter-widgets/base",
            "overflow": null,
            "_model_module_version": "1.2.0",
            "_view_count": null,
            "flex_flow": null,
            "width": null,
            "min_width": null,
            "border": null,
            "align_items": null,
            "bottom": null,
            "_model_module": "@jupyter-widgets/base",
            "top": null,
            "grid_column": null,
            "overflow_y": null,
            "overflow_x": null,
            "grid_auto_flow": null,
            "grid_area": null,
            "grid_template_columns": null,
            "flex": null,
            "_model_name": "LayoutModel",
            "justify_items": null,
            "grid_row": null,
            "max_height": null,
            "align_content": null,
            "visibility": null,
            "align_self": null,
            "height": null,
            "min_height": null,
            "padding": null,
            "grid_auto_rows": null,
            "grid_gap": null,
            "max_width": null,
            "order": null,
            "_view_module_version": "1.2.0",
            "grid_template_areas": null,
            "object_position": null,
            "object_fit": null,
            "grid_auto_columns": null,
            "margin": null,
            "display": null,
            "left": null
          }
        }
      }
    }
  },
  "cells": [
    {
      "cell_type": "markdown",
      "metadata": {
        "id": "view-in-github",
        "colab_type": "text"
      },
      "source": [
        "<a href=\"https://colab.research.google.com/github/fred2167/ResNet-50-FPN/blob/master/EfficientNet.ipynb\" target=\"_parent\"><img src=\"https://colab.research.google.com/assets/colab-badge.svg\" alt=\"Open In Colab\"/></a>"
      ]
    },
    {
      "cell_type": "code",
      "metadata": {
        "id": "u_zWnACgdXAv"
      },
      "source": [
        "import torch\n",
        "import torchvision\n",
        "import torchvision.transforms as transform\n",
        "import torch.nn as nn\n",
        "import torch.nn.functional as F\n",
        "import math\n",
        "import matplotlib.pyplot as plt\n",
        "from torchsummary import summary\n",
        "\n",
        "to_float_cuda = {\"dtype\": torch.float32, \"device\":\"cuda\"}"
      ],
      "execution_count": null,
      "outputs": []
    },
    {
      "cell_type": "code",
      "metadata": {
        "id": "BUqY8H0ueM_g",
        "outputId": "67b7d42c-35e4-4c6a-9187-1c311f7f0c10",
        "colab": {
          "base_uri": "https://localhost:8080/",
          "height": 100,
          "referenced_widgets": [
            "9ae4dbad3a9c4a26900a45f4955ff6b7",
            "4944812291b640bf9266aa9b1b28e419",
            "c2f02246b2c94264a3758807ce16f903",
            "78a75aef6e624b7ea4f0eafcaba18bdb",
            "5cc84fab8fb14f16b6976e30dc0a4dbb",
            "bff9977165c64894892741e84ec9e7b8",
            "b6716ddd0c6d4ad28ded5f3d7a986401",
            "0967d8aad0ab448d980f83ada201d930"
          ]
        }
      },
      "source": [
        "transformer = transform.Compose([\n",
        "                                transform.Resize(256),\n",
        "                                transform.CenterCrop(224),\n",
        "                                transform.ToTensor(),\n",
        "                                transform.Normalize((0.5,0.5,0.5),(0.5,0.5,0.5))\n",
        "])\n",
        "train_dataset = torchvision.datasets.CIFAR10(\"./data\",train=True, transform=transformer,download=True)\n",
        "trainloader = torch.utils.data.DataLoader(train_dataset,batch_size=64,shuffle=True,num_workers=2)\n",
        "\n",
        "dev_dataset = torchvision.datasets.CIFAR10(\"./data\",train=False, transform=transformer,download=True)\n",
        "devloader = torch.utils.data.DataLoader(dev_dataset,batch_size=64,shuffle=True,num_workers=2)"
      ],
      "execution_count": null,
      "outputs": [
        {
          "output_type": "stream",
          "text": [
            "Downloading https://www.cs.toronto.edu/~kriz/cifar-10-python.tar.gz to ./data/cifar-10-python.tar.gz\n"
          ],
          "name": "stdout"
        },
        {
          "output_type": "display_data",
          "data": {
            "application/vnd.jupyter.widget-view+json": {
              "model_id": "9ae4dbad3a9c4a26900a45f4955ff6b7",
              "version_minor": 0,
              "version_major": 2
            },
            "text/plain": [
              "HBox(children=(FloatProgress(value=1.0, bar_style='info', max=1.0), HTML(value='')))"
            ]
          },
          "metadata": {
            "tags": []
          }
        },
        {
          "output_type": "stream",
          "text": [
            "Extracting ./data/cifar-10-python.tar.gz to ./data\n",
            "Files already downloaded and verified\n"
          ],
          "name": "stdout"
        }
      ]
    },
    {
      "cell_type": "code",
      "metadata": {
        "id": "NrNgswWHiV4p"
      },
      "source": [
        "class SE_block (nn.Module):\n",
        "  '''\n",
        "  Squeeze and Excitation block\n",
        "  Some channels may be more important than another, therefore create a weight for number\n",
        "  of channels allow the network to prioritize different channels.\n",
        "  Sigmoid is used to ensure the outputs are between 0 and 1.\n",
        "\n",
        "  Inputs:\n",
        "  - in_channel: num of channels for the input feature maps\n",
        "  - ratio: paper default value, used to reduce dimension in linear layers\n",
        "\n",
        "  Outpus:\n",
        "  - A weight layer of shape (C,)\n",
        "  '''\n",
        "  def __init__(self,in_channel,ratio=16):\n",
        "    super().__init__()\n",
        "\n",
        "    self.block = nn.Sequential(\n",
        "                                nn.AdaptiveAvgPool2d((1,1)),\n",
        "                                nn.Flatten(),\n",
        "                                nn.Linear(in_channel,in_channel // ratio),\n",
        "                                nn.ReLu(),\n",
        "                                nn.Linear(in_channel // ratio, in_channel),\n",
        "                                nn.Sigmoid()\n",
        "                                )\n",
        "\n",
        "    def forward (self,x):\n",
        "      return self.block(x)\n",
        "\n",
        "class MBConv_block(nn.Module):\n",
        "\n",
        "  def __init__ (self,in_channel, out_channel=None, kernel_size=3, channel_expand_factor=6,padding=\"same\"):\n",
        "    super().__init__()\n",
        "\n",
        "    self.in_channel = in_channel\n",
        "    self.out_channel = out_channel\n",
        "\n",
        "    # Not changing channels\n",
        "    if out_channel is None:\n",
        "      out_channel = in_channel\n",
        "\n",
        "    if padding == \"same\":\n",
        "      pad = (kernel_size - 1) // 2\n",
        "    else:\n",
        "      pad = 0\n",
        "\n",
        "    self.SE_block = SE_block(in_channel)\n",
        "\n",
        "    self.inv_bottleneck_block = nn.Sequential(\n",
        "                                    nn.Conv2d(in_channel,in_channel*channel_expand_factor,kernel_size=1,bias=False,padding=pad),\n",
        "                                    nn.BatchNorm2d(in_channel*channel_expand_factor),\n",
        "                                    nn.ReLU(),\n",
        "                                    nn.Conv2d(in_channel*channel_expand_factor,in_channel*channel_expand_factorpand_factor,kernel_size=kernel_size,bias=False,padding=pad),\n",
        "                                    nn.BatchNorm2d(in_channel*channel_expand_factor),\n",
        "                                    nn.ReLU(),\n",
        "                                    nn.Conv2d(in_channel*channel_expand_factor,in_channel,kernel_size=1,bias=False,padding=pad),\n",
        "                                    nn.BatchNorm2d(out_channel)\n",
        "                                    )\n",
        "  def forward (self,x,debug=False):\n",
        "\n",
        "    output = self.inv_bottleneck_block(x)\n",
        "    weight = self.SE_block(output)\n",
        "\n",
        "\n",
        "    if debug:\n",
        "      print(f\"MBConv output shape: {output.shape}\")\n",
        "\n",
        "    return output * weight +  x\n",
        "\n",
        "\n",
        "  class MBConv_Stage(nn.Module):\n",
        "\n",
        "    def __init__(self, in_channel, out_channel, kernel_size, channel_expand_factor, num_base_layer, layer_coefficient, down_sample = False);\n",
        "    super().__init__()\n",
        "\n",
        "    self.stage = \n",
        "\n"
      ],
      "execution_count": null,
      "outputs": []
    },
    {
      "cell_type": "code",
      "metadata": {
        "id": "BOTyCXHFpkxu"
      },
      "source": [
        "class efficientNet (nn.Module):\n",
        "\n",
        "  def __init__(self,fi=0):\n",
        "    super().__init__()\n",
        "\n",
        "    alpha = 1.2 **fi    #Depth, num of layers\n",
        "    beta = 1.1 **fi     #Width, num of channels\n",
        "    gemma = 1.15 **fi   #Resolution, Only influence stage 1 depth\n",
        "\n",
        "\n",
        "    stage_1_param = {\"output_channels\": round(32 * beta),\n",
        "                     \"kernel_size\": 3,\n",
        "                     \"num_layers\": round(1 * gemma)}\n",
        "\n",
        "    stage_1 = nn.ModuleList([\n",
        "                             nn.Conv2d(3,stage_1_param[\"output_channels\"],stage_1_param[\"kernel_size\"]) for i in range(stage_1_param[\"num_layers\"])\n",
        "                             ]) \n",
        "    stage_2_param = {\"output_channels\": round(16 * beta),\n",
        "                     \"kernel_size\": 3,\n",
        "                     \"channel_expand_factor\": 1,\n",
        "                     \"num_layers\": round(1 * alpha)}\n",
        "\n"
      ],
      "execution_count": null,
      "outputs": []
    },
    {
      "cell_type": "code",
      "metadata": {
        "id": "bHdZAS0086uv"
      },
      "source": [
        ""
      ],
      "execution_count": null,
      "outputs": []
    }
  ]
}